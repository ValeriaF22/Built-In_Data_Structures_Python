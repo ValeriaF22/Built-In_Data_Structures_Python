{
  "nbformat": 4,
  "nbformat_minor": 0,
  "metadata": {
    "colab": {
      "provenance": []
    },
    "kernelspec": {
      "name": "python3",
      "display_name": "Python 3"
    },
    "language_info": {
      "name": "python"
    }
  },
  "cells": [
    {
      "cell_type": "markdown",
      "source": [
        "# AI Agents Hands-On Workshop for Course Training  \n",
        "***From AI Agents to Agentic AI: Architectures, Tools, and Popular Frameworks***"
      ],
      "metadata": {
        "id": "8pgduH4tTzIr"
      }
    },
    {
      "cell_type": "code",
      "source": [
        "!git clone https://github.com/CaSToRC-CyI/AI-Agents-Training.git"
      ],
      "metadata": {
        "colab": {
          "base_uri": "https://localhost:8080/"
        },
        "id": "SV8cW3ol39TB",
        "outputId": "4c480fb0-1e58-4b30-edc7-7a940dcf3ed6"
      },
      "execution_count": 1,
      "outputs": [
        {
          "output_type": "stream",
          "name": "stdout",
          "text": [
            "Cloning into 'AI-Agents-Training'...\n",
            "remote: Enumerating objects: 100, done.\u001b[K\n",
            "remote: Counting objects: 100% (100/100), done.\u001b[K\n",
            "remote: Compressing objects: 100% (81/81), done.\u001b[K\n",
            "remote: Total 100 (delta 50), reused 38 (delta 15), pack-reused 0 (from 0)\u001b[K\n",
            "Receiving objects: 100% (100/100), 7.47 MiB | 8.71 MiB/s, done.\n",
            "Resolving deltas: 100% (50/50), done.\n"
          ]
        }
      ]
    },
    {
      "cell_type": "markdown",
      "source": [
        "### Core Setup"
      ],
      "metadata": {
        "id": "cXANK7JSBAKR"
      }
    },
    {
      "cell_type": "code",
      "source": [
        "# Install Dependencies\n",
        "%%capture\n",
        "!pip install crewai crewai-tools langchain langchain-community openai faiss-cpu evaluate transformers autogen"
      ],
      "metadata": {
        "id": "op7ktxyc6Pqi"
      },
      "execution_count": 2,
      "outputs": []
    },
    {
      "cell_type": "code",
      "source": [
        "# Import libraries\n",
        "import os\n",
        "import getpass\n",
        "\n",
        "import pandas as pd\n",
        "from typing import Any\n",
        "# from langchain.llms import OpenAI\n",
        "from langchain_openai import ChatOpenAI\n",
        "\n",
        "from crewai import Agent, Task, Crew\n",
        "from crewai.tools import BaseTool\n",
        "from langchain.memory import ConversationBufferMemory"
      ],
      "metadata": {
        "id": "Ppn6v3pr6Pgz"
      },
      "execution_count": 3,
      "outputs": []
    },
    {
      "cell_type": "code",
      "source": [
        "os.environ[\"OPENAI_API_KEY\"] = getpass.getpass(\"Enter OpenAI API key:\")"
      ],
      "metadata": {
        "colab": {
          "base_uri": "https://localhost:8080/"
        },
        "id": "HxdPaAn2pMM2",
        "outputId": "148a537b-70cd-4035-da0c-b15b6c41c5b2"
      },
      "execution_count": 4,
      "outputs": [
        {
          "name": "stdout",
          "output_type": "stream",
          "text": [
            "Enter OpenAI API key:··········\n"
          ]
        }
      ]
    },
    {
      "cell_type": "code",
      "source": [
        "# Define the model (GPT-3.5)\n",
        "# gpt_model = ChatOpenAI(model_name=\"gpt-3.5-turbo\", temperature=0.3)\n",
        "gpt_model = ChatOpenAI(model_name=\"gpt-4.1-mini\", temperature=0.3)"
      ],
      "metadata": {
        "id": "AyPUFT6H28JK"
      },
      "execution_count": 5,
      "outputs": []
    },
    {
      "cell_type": "markdown",
      "source": [
        "**Load Dataset**\n",
        "\n",
        "You can find the dataset [here](https://www.kaggle.com/datasets/gabrielsantello/wholesale-and-retail-orders-dataset?select=orders.csv)."
      ],
      "metadata": {
        "id": "2S02T70H2vAz"
      }
    },
    {
      "cell_type": "code",
      "source": [
        "# Load your data\n",
        "df = pd.read_csv('/content/AI-Agents-Training/session2/orders.csv')\n",
        "df.columns = df.columns.str.strip()"
      ],
      "metadata": {
        "id": "2pd_a5fxzBCp"
      },
      "execution_count": 6,
      "outputs": []
    },
    {
      "cell_type": "code",
      "source": [
        "df.head()"
      ],
      "metadata": {
        "colab": {
          "base_uri": "https://localhost:8080/",
          "height": 223
        },
        "id": "AvzFFTTcKMRT",
        "outputId": "ef6d0d48-b708-4b4b-978f-29b1bd6a121e"
      },
      "execution_count": 7,
      "outputs": [
        {
          "output_type": "execute_result",
          "data": {
            "text/plain": [
              "   Customer ID Customer Status Date Order was placed Delivery Date   Order ID  \\\n",
              "0          579          Silver             01-Jan-17     07-Jan-17  123002578   \n",
              "1         7574          SILVER             01-Jan-17     05-Jan-17  123004074   \n",
              "2        28861            Gold             01-Jan-17     04-Jan-17  123000871   \n",
              "3        43796            Gold             01-Jan-17     06-Jan-17  123002851   \n",
              "4        54673            Gold             01-Jan-17     04-Jan-17  123003607   \n",
              "\n",
              "     Product ID  Quantity Ordered  Total Retail Price for This Order  \\\n",
              "0  220101400106                 2                               92.6   \n",
              "1  210201000009                 1                               21.7   \n",
              "2  230100500068                 1                                1.7   \n",
              "3  220100100633                 1                               47.9   \n",
              "4  220200200043                 1                               36.9   \n",
              "\n",
              "   Cost Price Per Unit  \n",
              "0                20.70  \n",
              "1                 9.95  \n",
              "2                 0.80  \n",
              "3                24.05  \n",
              "4                18.30  "
            ],
            "text/html": [
              "\n",
              "  <div id=\"df-60d32a3d-e539-4e17-a622-597fbdc7af7f\" class=\"colab-df-container\">\n",
              "    <div>\n",
              "<style scoped>\n",
              "    .dataframe tbody tr th:only-of-type {\n",
              "        vertical-align: middle;\n",
              "    }\n",
              "\n",
              "    .dataframe tbody tr th {\n",
              "        vertical-align: top;\n",
              "    }\n",
              "\n",
              "    .dataframe thead th {\n",
              "        text-align: right;\n",
              "    }\n",
              "</style>\n",
              "<table border=\"1\" class=\"dataframe\">\n",
              "  <thead>\n",
              "    <tr style=\"text-align: right;\">\n",
              "      <th></th>\n",
              "      <th>Customer ID</th>\n",
              "      <th>Customer Status</th>\n",
              "      <th>Date Order was placed</th>\n",
              "      <th>Delivery Date</th>\n",
              "      <th>Order ID</th>\n",
              "      <th>Product ID</th>\n",
              "      <th>Quantity Ordered</th>\n",
              "      <th>Total Retail Price for This Order</th>\n",
              "      <th>Cost Price Per Unit</th>\n",
              "    </tr>\n",
              "  </thead>\n",
              "  <tbody>\n",
              "    <tr>\n",
              "      <th>0</th>\n",
              "      <td>579</td>\n",
              "      <td>Silver</td>\n",
              "      <td>01-Jan-17</td>\n",
              "      <td>07-Jan-17</td>\n",
              "      <td>123002578</td>\n",
              "      <td>220101400106</td>\n",
              "      <td>2</td>\n",
              "      <td>92.6</td>\n",
              "      <td>20.70</td>\n",
              "    </tr>\n",
              "    <tr>\n",
              "      <th>1</th>\n",
              "      <td>7574</td>\n",
              "      <td>SILVER</td>\n",
              "      <td>01-Jan-17</td>\n",
              "      <td>05-Jan-17</td>\n",
              "      <td>123004074</td>\n",
              "      <td>210201000009</td>\n",
              "      <td>1</td>\n",
              "      <td>21.7</td>\n",
              "      <td>9.95</td>\n",
              "    </tr>\n",
              "    <tr>\n",
              "      <th>2</th>\n",
              "      <td>28861</td>\n",
              "      <td>Gold</td>\n",
              "      <td>01-Jan-17</td>\n",
              "      <td>04-Jan-17</td>\n",
              "      <td>123000871</td>\n",
              "      <td>230100500068</td>\n",
              "      <td>1</td>\n",
              "      <td>1.7</td>\n",
              "      <td>0.80</td>\n",
              "    </tr>\n",
              "    <tr>\n",
              "      <th>3</th>\n",
              "      <td>43796</td>\n",
              "      <td>Gold</td>\n",
              "      <td>01-Jan-17</td>\n",
              "      <td>06-Jan-17</td>\n",
              "      <td>123002851</td>\n",
              "      <td>220100100633</td>\n",
              "      <td>1</td>\n",
              "      <td>47.9</td>\n",
              "      <td>24.05</td>\n",
              "    </tr>\n",
              "    <tr>\n",
              "      <th>4</th>\n",
              "      <td>54673</td>\n",
              "      <td>Gold</td>\n",
              "      <td>01-Jan-17</td>\n",
              "      <td>04-Jan-17</td>\n",
              "      <td>123003607</td>\n",
              "      <td>220200200043</td>\n",
              "      <td>1</td>\n",
              "      <td>36.9</td>\n",
              "      <td>18.30</td>\n",
              "    </tr>\n",
              "  </tbody>\n",
              "</table>\n",
              "</div>\n",
              "    <div class=\"colab-df-buttons\">\n",
              "\n",
              "  <div class=\"colab-df-container\">\n",
              "    <button class=\"colab-df-convert\" onclick=\"convertToInteractive('df-60d32a3d-e539-4e17-a622-597fbdc7af7f')\"\n",
              "            title=\"Convert this dataframe to an interactive table.\"\n",
              "            style=\"display:none;\">\n",
              "\n",
              "  <svg xmlns=\"http://www.w3.org/2000/svg\" height=\"24px\" viewBox=\"0 -960 960 960\">\n",
              "    <path d=\"M120-120v-720h720v720H120Zm60-500h600v-160H180v160Zm220 220h160v-160H400v160Zm0 220h160v-160H400v160ZM180-400h160v-160H180v160Zm440 0h160v-160H620v160ZM180-180h160v-160H180v160Zm440 0h160v-160H620v160Z\"/>\n",
              "  </svg>\n",
              "    </button>\n",
              "\n",
              "  <style>\n",
              "    .colab-df-container {\n",
              "      display:flex;\n",
              "      gap: 12px;\n",
              "    }\n",
              "\n",
              "    .colab-df-convert {\n",
              "      background-color: #E8F0FE;\n",
              "      border: none;\n",
              "      border-radius: 50%;\n",
              "      cursor: pointer;\n",
              "      display: none;\n",
              "      fill: #1967D2;\n",
              "      height: 32px;\n",
              "      padding: 0 0 0 0;\n",
              "      width: 32px;\n",
              "    }\n",
              "\n",
              "    .colab-df-convert:hover {\n",
              "      background-color: #E2EBFA;\n",
              "      box-shadow: 0px 1px 2px rgba(60, 64, 67, 0.3), 0px 1px 3px 1px rgba(60, 64, 67, 0.15);\n",
              "      fill: #174EA6;\n",
              "    }\n",
              "\n",
              "    .colab-df-buttons div {\n",
              "      margin-bottom: 4px;\n",
              "    }\n",
              "\n",
              "    [theme=dark] .colab-df-convert {\n",
              "      background-color: #3B4455;\n",
              "      fill: #D2E3FC;\n",
              "    }\n",
              "\n",
              "    [theme=dark] .colab-df-convert:hover {\n",
              "      background-color: #434B5C;\n",
              "      box-shadow: 0px 1px 3px 1px rgba(0, 0, 0, 0.15);\n",
              "      filter: drop-shadow(0px 1px 2px rgba(0, 0, 0, 0.3));\n",
              "      fill: #FFFFFF;\n",
              "    }\n",
              "  </style>\n",
              "\n",
              "    <script>\n",
              "      const buttonEl =\n",
              "        document.querySelector('#df-60d32a3d-e539-4e17-a622-597fbdc7af7f button.colab-df-convert');\n",
              "      buttonEl.style.display =\n",
              "        google.colab.kernel.accessAllowed ? 'block' : 'none';\n",
              "\n",
              "      async function convertToInteractive(key) {\n",
              "        const element = document.querySelector('#df-60d32a3d-e539-4e17-a622-597fbdc7af7f');\n",
              "        const dataTable =\n",
              "          await google.colab.kernel.invokeFunction('convertToInteractive',\n",
              "                                                    [key], {});\n",
              "        if (!dataTable) return;\n",
              "\n",
              "        const docLinkHtml = 'Like what you see? Visit the ' +\n",
              "          '<a target=\"_blank\" href=https://colab.research.google.com/notebooks/data_table.ipynb>data table notebook</a>'\n",
              "          + ' to learn more about interactive tables.';\n",
              "        element.innerHTML = '';\n",
              "        dataTable['output_type'] = 'display_data';\n",
              "        await google.colab.output.renderOutput(dataTable, element);\n",
              "        const docLink = document.createElement('div');\n",
              "        docLink.innerHTML = docLinkHtml;\n",
              "        element.appendChild(docLink);\n",
              "      }\n",
              "    </script>\n",
              "  </div>\n",
              "\n",
              "\n",
              "    <div id=\"df-55c190cd-cc00-4af1-8a3f-a67ddfecb9c9\">\n",
              "      <button class=\"colab-df-quickchart\" onclick=\"quickchart('df-55c190cd-cc00-4af1-8a3f-a67ddfecb9c9')\"\n",
              "                title=\"Suggest charts\"\n",
              "                style=\"display:none;\">\n",
              "\n",
              "<svg xmlns=\"http://www.w3.org/2000/svg\" height=\"24px\"viewBox=\"0 0 24 24\"\n",
              "     width=\"24px\">\n",
              "    <g>\n",
              "        <path d=\"M19 3H5c-1.1 0-2 .9-2 2v14c0 1.1.9 2 2 2h14c1.1 0 2-.9 2-2V5c0-1.1-.9-2-2-2zM9 17H7v-7h2v7zm4 0h-2V7h2v10zm4 0h-2v-4h2v4z\"/>\n",
              "    </g>\n",
              "</svg>\n",
              "      </button>\n",
              "\n",
              "<style>\n",
              "  .colab-df-quickchart {\n",
              "      --bg-color: #E8F0FE;\n",
              "      --fill-color: #1967D2;\n",
              "      --hover-bg-color: #E2EBFA;\n",
              "      --hover-fill-color: #174EA6;\n",
              "      --disabled-fill-color: #AAA;\n",
              "      --disabled-bg-color: #DDD;\n",
              "  }\n",
              "\n",
              "  [theme=dark] .colab-df-quickchart {\n",
              "      --bg-color: #3B4455;\n",
              "      --fill-color: #D2E3FC;\n",
              "      --hover-bg-color: #434B5C;\n",
              "      --hover-fill-color: #FFFFFF;\n",
              "      --disabled-bg-color: #3B4455;\n",
              "      --disabled-fill-color: #666;\n",
              "  }\n",
              "\n",
              "  .colab-df-quickchart {\n",
              "    background-color: var(--bg-color);\n",
              "    border: none;\n",
              "    border-radius: 50%;\n",
              "    cursor: pointer;\n",
              "    display: none;\n",
              "    fill: var(--fill-color);\n",
              "    height: 32px;\n",
              "    padding: 0;\n",
              "    width: 32px;\n",
              "  }\n",
              "\n",
              "  .colab-df-quickchart:hover {\n",
              "    background-color: var(--hover-bg-color);\n",
              "    box-shadow: 0 1px 2px rgba(60, 64, 67, 0.3), 0 1px 3px 1px rgba(60, 64, 67, 0.15);\n",
              "    fill: var(--button-hover-fill-color);\n",
              "  }\n",
              "\n",
              "  .colab-df-quickchart-complete:disabled,\n",
              "  .colab-df-quickchart-complete:disabled:hover {\n",
              "    background-color: var(--disabled-bg-color);\n",
              "    fill: var(--disabled-fill-color);\n",
              "    box-shadow: none;\n",
              "  }\n",
              "\n",
              "  .colab-df-spinner {\n",
              "    border: 2px solid var(--fill-color);\n",
              "    border-color: transparent;\n",
              "    border-bottom-color: var(--fill-color);\n",
              "    animation:\n",
              "      spin 1s steps(1) infinite;\n",
              "  }\n",
              "\n",
              "  @keyframes spin {\n",
              "    0% {\n",
              "      border-color: transparent;\n",
              "      border-bottom-color: var(--fill-color);\n",
              "      border-left-color: var(--fill-color);\n",
              "    }\n",
              "    20% {\n",
              "      border-color: transparent;\n",
              "      border-left-color: var(--fill-color);\n",
              "      border-top-color: var(--fill-color);\n",
              "    }\n",
              "    30% {\n",
              "      border-color: transparent;\n",
              "      border-left-color: var(--fill-color);\n",
              "      border-top-color: var(--fill-color);\n",
              "      border-right-color: var(--fill-color);\n",
              "    }\n",
              "    40% {\n",
              "      border-color: transparent;\n",
              "      border-right-color: var(--fill-color);\n",
              "      border-top-color: var(--fill-color);\n",
              "    }\n",
              "    60% {\n",
              "      border-color: transparent;\n",
              "      border-right-color: var(--fill-color);\n",
              "    }\n",
              "    80% {\n",
              "      border-color: transparent;\n",
              "      border-right-color: var(--fill-color);\n",
              "      border-bottom-color: var(--fill-color);\n",
              "    }\n",
              "    90% {\n",
              "      border-color: transparent;\n",
              "      border-bottom-color: var(--fill-color);\n",
              "    }\n",
              "  }\n",
              "</style>\n",
              "\n",
              "      <script>\n",
              "        async function quickchart(key) {\n",
              "          const quickchartButtonEl =\n",
              "            document.querySelector('#' + key + ' button');\n",
              "          quickchartButtonEl.disabled = true;  // To prevent multiple clicks.\n",
              "          quickchartButtonEl.classList.add('colab-df-spinner');\n",
              "          try {\n",
              "            const charts = await google.colab.kernel.invokeFunction(\n",
              "                'suggestCharts', [key], {});\n",
              "          } catch (error) {\n",
              "            console.error('Error during call to suggestCharts:', error);\n",
              "          }\n",
              "          quickchartButtonEl.classList.remove('colab-df-spinner');\n",
              "          quickchartButtonEl.classList.add('colab-df-quickchart-complete');\n",
              "        }\n",
              "        (() => {\n",
              "          let quickchartButtonEl =\n",
              "            document.querySelector('#df-55c190cd-cc00-4af1-8a3f-a67ddfecb9c9 button');\n",
              "          quickchartButtonEl.style.display =\n",
              "            google.colab.kernel.accessAllowed ? 'block' : 'none';\n",
              "        })();\n",
              "      </script>\n",
              "    </div>\n",
              "\n",
              "    </div>\n",
              "  </div>\n"
            ],
            "application/vnd.google.colaboratory.intrinsic+json": {
              "type": "dataframe",
              "variable_name": "df"
            }
          },
          "metadata": {},
          "execution_count": 7
        }
      ]
    },
    {
      "cell_type": "markdown",
      "source": [
        "### Single Agent Creation with CrewAI"
      ],
      "metadata": {
        "id": "8sY_LNPa7Ekh"
      }
    },
    {
      "cell_type": "markdown",
      "source": [
        "**Define the Order Count Agent & Create a tool instance**"
      ],
      "metadata": {
        "id": "MiTprlE421N0"
      }
    },
    {
      "cell_type": "markdown",
      "source": [
        "> Custom tool anatomy in CrewAI\n",
        "\n",
        "```\n",
        "class MyTool(BaseTool):\n",
        "    name: str = \"Tool Name\"\n",
        "    description: str = \"Tool description\"\n",
        "    \n",
        "    def _run(self, input: str) -> Any:\n",
        "        # do something with input\n",
        "        return output\n",
        "```\n",
        "\n"
      ],
      "metadata": {
        "id": "LaGjd3JW1f_q"
      }
    },
    {
      "cell_type": "code",
      "source": [
        "# Create tool to identify unique orders\n",
        "class UniqueOrderCountTool(BaseTool):\n",
        "    name: str = \"Unique Order Count Tool\"\n",
        "    description: str = \"Returns the number of unique orders (Order ID) for a given Customer ID\"\n",
        "    df: pd.DataFrame\n",
        "\n",
        "    def _run(self, customer_id: str) -> Any:\n",
        "        print(f\"DEBUG: Received customer_id: {customer_id}\")  # Debug log\n",
        "        try:\n",
        "            # Check if customer_id is numeric\n",
        "            if not customer_id.isnumeric():\n",
        "                return \"Invalid Customer ID: Please enter a numeric Customer ID.\"\n",
        "\n",
        "            df = self.df.copy()\n",
        "            df.columns = df.columns.str.strip()  # strip column names\n",
        "            df['Customer ID'] = df['Customer ID'].astype(str).str.strip()  # ensure string match\n",
        "            df['Order ID'] = df['Order ID'].astype(str).str.strip()\n",
        "\n",
        "            # Filter by customer\n",
        "            customer_orders = df[df['Customer ID'] == customer_id]\n",
        "\n",
        "            if customer_orders.empty:\n",
        "                return f\"No orders found for Customer ID {customer_id}.\"\n",
        "\n",
        "            count = customer_orders['Order ID'].nunique()\n",
        "            return f\"Customer {customer_id} has placed {count} unique orders.\"\n",
        "\n",
        "        except Exception as e:\n",
        "            return f\"Error: {str(e)}\""
      ],
      "metadata": {
        "id": "fO1_3ZpOffYQ"
      },
      "execution_count": 25,
      "outputs": []
    },
    {
      "cell_type": "code",
      "source": [
        "# Create the tool instance after agent is defined\n",
        "unique_order_tool = UniqueOrderCountTool(df=df)\n",
        "\n",
        "# Define the agent\n",
        "order_count_agent = Agent(\n",
        "    role=\"Customer Order Checker\",\n",
        "    goal=\"Given a Customer ID, report how many unique orders they have placed.\",\n",
        "    backstory=\"You are an assistant that helps ShopFast understand individual customer behavior by checking order counts.\",\n",
        "    tools=[unique_order_tool],\n",
        "    verbose=True,\n",
        "    memory=False,\n",
        "    allow_delegation=False,\n",
        "    llm=gpt_model\n",
        ")"
      ],
      "metadata": {
        "id": "ebHag8nY1yxV"
      },
      "execution_count": 23,
      "outputs": []
    },
    {
      "cell_type": "markdown",
      "source": [
        "**Create Task & Crew**"
      ],
      "metadata": {
        "id": "yewBFmVJ3pxV"
      }
    },
    {
      "cell_type": "code",
      "source": [
        "df['Customer ID'].unique()"
      ],
      "metadata": {
        "colab": {
          "base_uri": "https://localhost:8080/"
        },
        "id": "lhXkfzyuLyJI",
        "outputId": "12aca505-e889-49d1-e156-8e42dfd99f84"
      },
      "execution_count": 10,
      "outputs": [
        {
          "output_type": "execute_result",
          "data": {
            "text/plain": [
              "array([  579,  7574, 28861, ..., 74775, 82386, 89279])"
            ]
          },
          "metadata": {},
          "execution_count": 10
        }
      ]
    },
    {
      "cell_type": "code",
      "source": [
        "customer_id = input(\"Please enter the Customer ID: \")\n",
        "\n",
        "# Define the task\n",
        "order_count_task = Task(\n",
        "    description=(\n",
        "        f\"Use the tool to find how many unique 'Order ID' values are associated with the customer \"\n",
        "        f\"who has Customer ID '{customer_id}'. Output just the number and a short sentence explaining the result.\"\n",
        "        f\"If for any reason the input Customer ID is not correct, please stop running.\"\n",
        "    ),\n",
        "    expected_output= \"A sentence like: 'Customer 7574 has placed 1 unique orders.'\",\n",
        "    agent=order_count_agent\n",
        ")\n",
        "\n",
        "# Run the Crew\n",
        "crew = Crew(\n",
        "    agents=[order_count_agent],\n",
        "    tasks=[order_count_task]\n",
        ")\n",
        "result = crew.kickoff()\n",
        "\n",
        "# Print outputs\n",
        "print(\"\\n--- Task Results ---\\n\")\n",
        "for task_output in result.tasks_output:\n",
        "    print(f\"Task:\\n{task_output.description}\\n\\nOutput:\\n{task_output.raw}\\n\")"
      ],
      "metadata": {
        "colab": {
          "base_uri": "https://localhost:8080/",
          "height": 828
        },
        "id": "BX-R3vPM13Tx",
        "outputId": "5570b7d7-bbc2-485e-9c8d-e0bea0ff04ca"
      },
      "execution_count": 24,
      "outputs": [
        {
          "name": "stdout",
          "output_type": "stream",
          "text": [
            "Please enter the Customer ID: -5\n"
          ]
        },
        {
          "output_type": "display_data",
          "data": {
            "text/plain": [
              "\u001b[35m╭─\u001b[0m\u001b[35m──────────────────────────────────────────────\u001b[0m\u001b[35m 🤖 Agent Started \u001b[0m\u001b[35m───────────────────────────────────────────────\u001b[0m\u001b[35m─╮\u001b[0m\n",
              "\u001b[35m│\u001b[0m                                                                                                                 \u001b[35m│\u001b[0m\n",
              "\u001b[35m│\u001b[0m  \u001b[37mAgent: \u001b[0m\u001b[1;92mCustomer Order Checker\u001b[0m                                                                                  \u001b[35m│\u001b[0m\n",
              "\u001b[35m│\u001b[0m                                                                                                                 \u001b[35m│\u001b[0m\n",
              "\u001b[35m│\u001b[0m  \u001b[37mTask: \u001b[0m\u001b[92mUse the tool to find how many unique 'Order ID' values are associated with the customer who has \u001b[0m         \u001b[35m│\u001b[0m\n",
              "\u001b[35m│\u001b[0m  \u001b[92mCustomer ID '-5'. Output just the number and a short sentence explaining the result.If for any reason the \u001b[0m     \u001b[35m│\u001b[0m\n",
              "\u001b[35m│\u001b[0m  \u001b[92minput Customer ID is not correct, please stop running.\u001b[0m                                                         \u001b[35m│\u001b[0m\n",
              "\u001b[35m│\u001b[0m                                                                                                                 \u001b[35m│\u001b[0m\n",
              "\u001b[35m╰─────────────────────────────────────────────────────────────────────────────────────────────────────────────────╯\u001b[0m\n"
            ],
            "text/html": [
              "<pre style=\"white-space:pre;overflow-x:auto;line-height:normal;font-family:Menlo,'DejaVu Sans Mono',consolas,'Courier New',monospace\"><span style=\"color: #800080; text-decoration-color: #800080\">╭─────────────────────────────────────────────── 🤖 Agent Started ────────────────────────────────────────────────╮</span>\n",
              "<span style=\"color: #800080; text-decoration-color: #800080\">│</span>                                                                                                                 <span style=\"color: #800080; text-decoration-color: #800080\">│</span>\n",
              "<span style=\"color: #800080; text-decoration-color: #800080\">│</span>  <span style=\"color: #c0c0c0; text-decoration-color: #c0c0c0\">Agent: </span><span style=\"color: #00ff00; text-decoration-color: #00ff00; font-weight: bold\">Customer Order Checker</span>                                                                                  <span style=\"color: #800080; text-decoration-color: #800080\">│</span>\n",
              "<span style=\"color: #800080; text-decoration-color: #800080\">│</span>                                                                                                                 <span style=\"color: #800080; text-decoration-color: #800080\">│</span>\n",
              "<span style=\"color: #800080; text-decoration-color: #800080\">│</span>  <span style=\"color: #c0c0c0; text-decoration-color: #c0c0c0\">Task: </span><span style=\"color: #00ff00; text-decoration-color: #00ff00\">Use the tool to find how many unique 'Order ID' values are associated with the customer who has </span>         <span style=\"color: #800080; text-decoration-color: #800080\">│</span>\n",
              "<span style=\"color: #800080; text-decoration-color: #800080\">│</span>  <span style=\"color: #00ff00; text-decoration-color: #00ff00\">Customer ID '-5'. Output just the number and a short sentence explaining the result.If for any reason the </span>     <span style=\"color: #800080; text-decoration-color: #800080\">│</span>\n",
              "<span style=\"color: #800080; text-decoration-color: #800080\">│</span>  <span style=\"color: #00ff00; text-decoration-color: #00ff00\">input Customer ID is not correct, please stop running.</span>                                                         <span style=\"color: #800080; text-decoration-color: #800080\">│</span>\n",
              "<span style=\"color: #800080; text-decoration-color: #800080\">│</span>                                                                                                                 <span style=\"color: #800080; text-decoration-color: #800080\">│</span>\n",
              "<span style=\"color: #800080; text-decoration-color: #800080\">╰─────────────────────────────────────────────────────────────────────────────────────────────────────────────────╯</span>\n",
              "</pre>\n"
            ]
          },
          "metadata": {}
        },
        {
          "output_type": "display_data",
          "data": {
            "text/plain": [
              "\n"
            ],
            "text/html": [
              "<pre style=\"white-space:pre;overflow-x:auto;line-height:normal;font-family:Menlo,'DejaVu Sans Mono',consolas,'Courier New',monospace\">\n",
              "</pre>\n"
            ]
          },
          "metadata": {}
        },
        {
          "output_type": "stream",
          "name": "stdout",
          "text": [
            "DEBUG: Received customer_id: -5\n"
          ]
        },
        {
          "output_type": "display_data",
          "data": {
            "text/plain": [
              "\u001b[35m╭─\u001b[0m\u001b[35m───────────────────────────────────────────\u001b[0m\u001b[35m 🔧 Agent Tool Execution \u001b[0m\u001b[35m───────────────────────────────────────────\u001b[0m\u001b[35m─╮\u001b[0m\n",
              "\u001b[35m│\u001b[0m                                                                                                                 \u001b[35m│\u001b[0m\n",
              "\u001b[35m│\u001b[0m  \u001b[37mAgent: \u001b[0m\u001b[1;92mCustomer Order Checker\u001b[0m                                                                                  \u001b[35m│\u001b[0m\n",
              "\u001b[35m│\u001b[0m                                                                                                                 \u001b[35m│\u001b[0m\n",
              "\u001b[35m│\u001b[0m  \u001b[37mThought: \u001b[0m\u001b[92mThought: I need to check how many unique orders are associated with the customer who has Customer ID\u001b[0m  \u001b[35m│\u001b[0m\n",
              "\u001b[35m│\u001b[0m  \u001b[92m'-5'. I will use the Unique Order Count Tool to find this information.\u001b[0m                                         \u001b[35m│\u001b[0m\n",
              "\u001b[35m│\u001b[0m                                                                                                                 \u001b[35m│\u001b[0m\n",
              "\u001b[35m│\u001b[0m  \u001b[37mUsing Tool: \u001b[0m\u001b[1;92mUnique Order Count Tool\u001b[0m                                                                            \u001b[35m│\u001b[0m\n",
              "\u001b[35m│\u001b[0m                                                                                                                 \u001b[35m│\u001b[0m\n",
              "\u001b[35m╰─────────────────────────────────────────────────────────────────────────────────────────────────────────────────╯\u001b[0m\n"
            ],
            "text/html": [
              "<pre style=\"white-space:pre;overflow-x:auto;line-height:normal;font-family:Menlo,'DejaVu Sans Mono',consolas,'Courier New',monospace\"><span style=\"color: #800080; text-decoration-color: #800080\">╭──────────────────────────────────────────── 🔧 Agent Tool Execution ────────────────────────────────────────────╮</span>\n",
              "<span style=\"color: #800080; text-decoration-color: #800080\">│</span>                                                                                                                 <span style=\"color: #800080; text-decoration-color: #800080\">│</span>\n",
              "<span style=\"color: #800080; text-decoration-color: #800080\">│</span>  <span style=\"color: #c0c0c0; text-decoration-color: #c0c0c0\">Agent: </span><span style=\"color: #00ff00; text-decoration-color: #00ff00; font-weight: bold\">Customer Order Checker</span>                                                                                  <span style=\"color: #800080; text-decoration-color: #800080\">│</span>\n",
              "<span style=\"color: #800080; text-decoration-color: #800080\">│</span>                                                                                                                 <span style=\"color: #800080; text-decoration-color: #800080\">│</span>\n",
              "<span style=\"color: #800080; text-decoration-color: #800080\">│</span>  <span style=\"color: #c0c0c0; text-decoration-color: #c0c0c0\">Thought: </span><span style=\"color: #00ff00; text-decoration-color: #00ff00\">Thought: I need to check how many unique orders are associated with the customer who has Customer ID</span>  <span style=\"color: #800080; text-decoration-color: #800080\">│</span>\n",
              "<span style=\"color: #800080; text-decoration-color: #800080\">│</span>  <span style=\"color: #00ff00; text-decoration-color: #00ff00\">'-5'. I will use the Unique Order Count Tool to find this information.</span>                                         <span style=\"color: #800080; text-decoration-color: #800080\">│</span>\n",
              "<span style=\"color: #800080; text-decoration-color: #800080\">│</span>                                                                                                                 <span style=\"color: #800080; text-decoration-color: #800080\">│</span>\n",
              "<span style=\"color: #800080; text-decoration-color: #800080\">│</span>  <span style=\"color: #c0c0c0; text-decoration-color: #c0c0c0\">Using Tool: </span><span style=\"color: #00ff00; text-decoration-color: #00ff00; font-weight: bold\">Unique Order Count Tool</span>                                                                            <span style=\"color: #800080; text-decoration-color: #800080\">│</span>\n",
              "<span style=\"color: #800080; text-decoration-color: #800080\">│</span>                                                                                                                 <span style=\"color: #800080; text-decoration-color: #800080\">│</span>\n",
              "<span style=\"color: #800080; text-decoration-color: #800080\">╰─────────────────────────────────────────────────────────────────────────────────────────────────────────────────╯</span>\n",
              "</pre>\n"
            ]
          },
          "metadata": {}
        },
        {
          "output_type": "display_data",
          "data": {
            "text/plain": [
              "\u001b[34m╭─\u001b[0m\u001b[34m─────────────────────────────────────────────────\u001b[0m\u001b[34m Tool Input \u001b[0m\u001b[34m──────────────────────────────────────────────────\u001b[0m\u001b[34m─╮\u001b[0m\n",
              "\u001b[34m│\u001b[0m                                                                                                                 \u001b[34m│\u001b[0m\n",
              "\u001b[34m│\u001b[0m  \u001b[38;2;230;219;116;49m\"{\\\"customer_id\\\": \\\"-5\\\"}\"\u001b[0m                                                                                    \u001b[34m│\u001b[0m\n",
              "\u001b[34m│\u001b[0m                                                                                                                 \u001b[34m│\u001b[0m\n",
              "\u001b[34m╰─────────────────────────────────────────────────────────────────────────────────────────────────────────────────╯\u001b[0m\n"
            ],
            "text/html": [
              "<pre style=\"white-space:pre;overflow-x:auto;line-height:normal;font-family:Menlo,'DejaVu Sans Mono',consolas,'Courier New',monospace\"><span style=\"color: #000080; text-decoration-color: #000080\">╭────────────────────────────────────────────────── Tool Input ───────────────────────────────────────────────────╮</span>\n",
              "<span style=\"color: #000080; text-decoration-color: #000080\">│</span>                                                                                                                 <span style=\"color: #000080; text-decoration-color: #000080\">│</span>\n",
              "<span style=\"color: #000080; text-decoration-color: #000080\">│</span>  <span style=\"color: #e6db74; text-decoration-color: #e6db74; background-color: #ffffff\">\"{\\\"customer_id\\\": \\\"-5\\\"}\"</span>                                                                                    <span style=\"color: #000080; text-decoration-color: #000080\">│</span>\n",
              "<span style=\"color: #000080; text-decoration-color: #000080\">│</span>                                                                                                                 <span style=\"color: #000080; text-decoration-color: #000080\">│</span>\n",
              "<span style=\"color: #000080; text-decoration-color: #000080\">╰─────────────────────────────────────────────────────────────────────────────────────────────────────────────────╯</span>\n",
              "</pre>\n"
            ]
          },
          "metadata": {}
        },
        {
          "output_type": "display_data",
          "data": {
            "text/plain": [
              "\u001b[32m╭─\u001b[0m\u001b[32m─────────────────────────────────────────────────\u001b[0m\u001b[32m Tool Output \u001b[0m\u001b[32m─────────────────────────────────────────────────\u001b[0m\u001b[32m─╮\u001b[0m\n",
              "\u001b[32m│\u001b[0m                                                                                                                 \u001b[32m│\u001b[0m\n",
              "\u001b[32m│\u001b[0m  \u001b[92mNo orders found for Customer ID -5.\u001b[0m                                                                            \u001b[32m│\u001b[0m\n",
              "\u001b[32m│\u001b[0m                                                                                                                 \u001b[32m│\u001b[0m\n",
              "\u001b[32m╰─────────────────────────────────────────────────────────────────────────────────────────────────────────────────╯\u001b[0m\n"
            ],
            "text/html": [
              "<pre style=\"white-space:pre;overflow-x:auto;line-height:normal;font-family:Menlo,'DejaVu Sans Mono',consolas,'Courier New',monospace\"><span style=\"color: #008000; text-decoration-color: #008000\">╭────────────────────────────────────────────────── Tool Output ──────────────────────────────────────────────────╮</span>\n",
              "<span style=\"color: #008000; text-decoration-color: #008000\">│</span>                                                                                                                 <span style=\"color: #008000; text-decoration-color: #008000\">│</span>\n",
              "<span style=\"color: #008000; text-decoration-color: #008000\">│</span>  <span style=\"color: #00ff00; text-decoration-color: #00ff00\">No orders found for Customer ID -5.</span>                                                                            <span style=\"color: #008000; text-decoration-color: #008000\">│</span>\n",
              "<span style=\"color: #008000; text-decoration-color: #008000\">│</span>                                                                                                                 <span style=\"color: #008000; text-decoration-color: #008000\">│</span>\n",
              "<span style=\"color: #008000; text-decoration-color: #008000\">╰─────────────────────────────────────────────────────────────────────────────────────────────────────────────────╯</span>\n",
              "</pre>\n"
            ]
          },
          "metadata": {}
        },
        {
          "output_type": "display_data",
          "data": {
            "text/plain": [
              "\n"
            ],
            "text/html": [
              "<pre style=\"white-space:pre;overflow-x:auto;line-height:normal;font-family:Menlo,'DejaVu Sans Mono',consolas,'Courier New',monospace\">\n",
              "</pre>\n"
            ]
          },
          "metadata": {}
        },
        {
          "output_type": "display_data",
          "data": {
            "text/plain": [
              "\u001b[32m╭─\u001b[0m\u001b[32m────────────────────────────────────────────\u001b[0m\u001b[32m ✅ Agent Final Answer \u001b[0m\u001b[32m────────────────────────────────────────────\u001b[0m\u001b[32m─╮\u001b[0m\n",
              "\u001b[32m│\u001b[0m                                                                                                                 \u001b[32m│\u001b[0m\n",
              "\u001b[32m│\u001b[0m  \u001b[37mAgent: \u001b[0m\u001b[1;92mCustomer Order Checker\u001b[0m                                                                                  \u001b[32m│\u001b[0m\n",
              "\u001b[32m│\u001b[0m                                                                                                                 \u001b[32m│\u001b[0m\n",
              "\u001b[32m│\u001b[0m  \u001b[37mFinal Answer:\u001b[0m                                                                                                  \u001b[32m│\u001b[0m\n",
              "\u001b[32m│\u001b[0m  \u001b[92mCustomer -5 has placed 0 unique orders.\u001b[0m                                                                        \u001b[32m│\u001b[0m\n",
              "\u001b[32m│\u001b[0m                                                                                                                 \u001b[32m│\u001b[0m\n",
              "\u001b[32m╰─────────────────────────────────────────────────────────────────────────────────────────────────────────────────╯\u001b[0m\n"
            ],
            "text/html": [
              "<pre style=\"white-space:pre;overflow-x:auto;line-height:normal;font-family:Menlo,'DejaVu Sans Mono',consolas,'Courier New',monospace\"><span style=\"color: #008000; text-decoration-color: #008000\">╭───────────────────────────────────────────── ✅ Agent Final Answer ─────────────────────────────────────────────╮</span>\n",
              "<span style=\"color: #008000; text-decoration-color: #008000\">│</span>                                                                                                                 <span style=\"color: #008000; text-decoration-color: #008000\">│</span>\n",
              "<span style=\"color: #008000; text-decoration-color: #008000\">│</span>  <span style=\"color: #c0c0c0; text-decoration-color: #c0c0c0\">Agent: </span><span style=\"color: #00ff00; text-decoration-color: #00ff00; font-weight: bold\">Customer Order Checker</span>                                                                                  <span style=\"color: #008000; text-decoration-color: #008000\">│</span>\n",
              "<span style=\"color: #008000; text-decoration-color: #008000\">│</span>                                                                                                                 <span style=\"color: #008000; text-decoration-color: #008000\">│</span>\n",
              "<span style=\"color: #008000; text-decoration-color: #008000\">│</span>  <span style=\"color: #c0c0c0; text-decoration-color: #c0c0c0\">Final Answer:</span>                                                                                                  <span style=\"color: #008000; text-decoration-color: #008000\">│</span>\n",
              "<span style=\"color: #008000; text-decoration-color: #008000\">│</span>  <span style=\"color: #00ff00; text-decoration-color: #00ff00\">Customer -5 has placed 0 unique orders.</span>                                                                        <span style=\"color: #008000; text-decoration-color: #008000\">│</span>\n",
              "<span style=\"color: #008000; text-decoration-color: #008000\">│</span>                                                                                                                 <span style=\"color: #008000; text-decoration-color: #008000\">│</span>\n",
              "<span style=\"color: #008000; text-decoration-color: #008000\">╰─────────────────────────────────────────────────────────────────────────────────────────────────────────────────╯</span>\n",
              "</pre>\n"
            ]
          },
          "metadata": {}
        },
        {
          "output_type": "display_data",
          "data": {
            "text/plain": [
              "\n"
            ],
            "text/html": [
              "<pre style=\"white-space:pre;overflow-x:auto;line-height:normal;font-family:Menlo,'DejaVu Sans Mono',consolas,'Courier New',monospace\">\n",
              "</pre>\n"
            ]
          },
          "metadata": {}
        },
        {
          "output_type": "stream",
          "name": "stdout",
          "text": [
            "\n",
            "--- Task Results ---\n",
            "\n",
            "Task:\n",
            "Use the tool to find how many unique 'Order ID' values are associated with the customer who has Customer ID '-5'. Output just the number and a short sentence explaining the result.If for any reason the input Customer ID is not correct, please stop running.\n",
            "\n",
            "Output:\n",
            "Customer -5 has placed 0 unique orders.\n",
            "\n"
          ]
        }
      ]
    },
    {
      "cell_type": "markdown",
      "source": [
        "**Validate agent's answers**"
      ],
      "metadata": {
        "id": "vbAlJk5K33Xz"
      }
    },
    {
      "cell_type": "code",
      "source": [
        "df[df['Customer ID'] == 579]"
      ],
      "metadata": {
        "colab": {
          "base_uri": "https://localhost:8080/",
          "height": 192
        },
        "id": "kzuNfLu45QdS",
        "outputId": "b1b32344-771d-475d-e851-aa62fe2530a8"
      },
      "execution_count": 12,
      "outputs": [
        {
          "output_type": "execute_result",
          "data": {
            "text/plain": [
              "        Customer ID Customer Status Date Order was placed Delivery Date  \\\n",
              "0               579          Silver             01-Jan-17     07-Jan-17   \n",
              "55425           579          SILVER             28-Sep-18     28-Sep-18   \n",
              "154545          579            Gold             29-Apr-21     29-Apr-21   \n",
              "172082          579          SILVER             24-Sep-21     24-Sep-21   \n",
              "\n",
              "         Order ID    Product ID  Quantity Ordered  \\\n",
              "0       123002578  220101400106                 2   \n",
              "55425   123306088  240100100235                 1   \n",
              "154545  124209728  240100100458                 1   \n",
              "172082  124350126  220101400027                 2   \n",
              "\n",
              "        Total Retail Price for This Order  Cost Price Per Unit  \n",
              "0                                    92.6                20.70  \n",
              "55425                                13.2                 5.65  \n",
              "154545                                6.7                 2.95  \n",
              "172082                              139.0                31.70  "
            ],
            "text/html": [
              "\n",
              "  <div id=\"df-605b04a9-75bf-432c-8caa-363e800f7aea\" class=\"colab-df-container\">\n",
              "    <div>\n",
              "<style scoped>\n",
              "    .dataframe tbody tr th:only-of-type {\n",
              "        vertical-align: middle;\n",
              "    }\n",
              "\n",
              "    .dataframe tbody tr th {\n",
              "        vertical-align: top;\n",
              "    }\n",
              "\n",
              "    .dataframe thead th {\n",
              "        text-align: right;\n",
              "    }\n",
              "</style>\n",
              "<table border=\"1\" class=\"dataframe\">\n",
              "  <thead>\n",
              "    <tr style=\"text-align: right;\">\n",
              "      <th></th>\n",
              "      <th>Customer ID</th>\n",
              "      <th>Customer Status</th>\n",
              "      <th>Date Order was placed</th>\n",
              "      <th>Delivery Date</th>\n",
              "      <th>Order ID</th>\n",
              "      <th>Product ID</th>\n",
              "      <th>Quantity Ordered</th>\n",
              "      <th>Total Retail Price for This Order</th>\n",
              "      <th>Cost Price Per Unit</th>\n",
              "    </tr>\n",
              "  </thead>\n",
              "  <tbody>\n",
              "    <tr>\n",
              "      <th>0</th>\n",
              "      <td>579</td>\n",
              "      <td>Silver</td>\n",
              "      <td>01-Jan-17</td>\n",
              "      <td>07-Jan-17</td>\n",
              "      <td>123002578</td>\n",
              "      <td>220101400106</td>\n",
              "      <td>2</td>\n",
              "      <td>92.6</td>\n",
              "      <td>20.70</td>\n",
              "    </tr>\n",
              "    <tr>\n",
              "      <th>55425</th>\n",
              "      <td>579</td>\n",
              "      <td>SILVER</td>\n",
              "      <td>28-Sep-18</td>\n",
              "      <td>28-Sep-18</td>\n",
              "      <td>123306088</td>\n",
              "      <td>240100100235</td>\n",
              "      <td>1</td>\n",
              "      <td>13.2</td>\n",
              "      <td>5.65</td>\n",
              "    </tr>\n",
              "    <tr>\n",
              "      <th>154545</th>\n",
              "      <td>579</td>\n",
              "      <td>Gold</td>\n",
              "      <td>29-Apr-21</td>\n",
              "      <td>29-Apr-21</td>\n",
              "      <td>124209728</td>\n",
              "      <td>240100100458</td>\n",
              "      <td>1</td>\n",
              "      <td>6.7</td>\n",
              "      <td>2.95</td>\n",
              "    </tr>\n",
              "    <tr>\n",
              "      <th>172082</th>\n",
              "      <td>579</td>\n",
              "      <td>SILVER</td>\n",
              "      <td>24-Sep-21</td>\n",
              "      <td>24-Sep-21</td>\n",
              "      <td>124350126</td>\n",
              "      <td>220101400027</td>\n",
              "      <td>2</td>\n",
              "      <td>139.0</td>\n",
              "      <td>31.70</td>\n",
              "    </tr>\n",
              "  </tbody>\n",
              "</table>\n",
              "</div>\n",
              "    <div class=\"colab-df-buttons\">\n",
              "\n",
              "  <div class=\"colab-df-container\">\n",
              "    <button class=\"colab-df-convert\" onclick=\"convertToInteractive('df-605b04a9-75bf-432c-8caa-363e800f7aea')\"\n",
              "            title=\"Convert this dataframe to an interactive table.\"\n",
              "            style=\"display:none;\">\n",
              "\n",
              "  <svg xmlns=\"http://www.w3.org/2000/svg\" height=\"24px\" viewBox=\"0 -960 960 960\">\n",
              "    <path d=\"M120-120v-720h720v720H120Zm60-500h600v-160H180v160Zm220 220h160v-160H400v160Zm0 220h160v-160H400v160ZM180-400h160v-160H180v160Zm440 0h160v-160H620v160ZM180-180h160v-160H180v160Zm440 0h160v-160H620v160Z\"/>\n",
              "  </svg>\n",
              "    </button>\n",
              "\n",
              "  <style>\n",
              "    .colab-df-container {\n",
              "      display:flex;\n",
              "      gap: 12px;\n",
              "    }\n",
              "\n",
              "    .colab-df-convert {\n",
              "      background-color: #E8F0FE;\n",
              "      border: none;\n",
              "      border-radius: 50%;\n",
              "      cursor: pointer;\n",
              "      display: none;\n",
              "      fill: #1967D2;\n",
              "      height: 32px;\n",
              "      padding: 0 0 0 0;\n",
              "      width: 32px;\n",
              "    }\n",
              "\n",
              "    .colab-df-convert:hover {\n",
              "      background-color: #E2EBFA;\n",
              "      box-shadow: 0px 1px 2px rgba(60, 64, 67, 0.3), 0px 1px 3px 1px rgba(60, 64, 67, 0.15);\n",
              "      fill: #174EA6;\n",
              "    }\n",
              "\n",
              "    .colab-df-buttons div {\n",
              "      margin-bottom: 4px;\n",
              "    }\n",
              "\n",
              "    [theme=dark] .colab-df-convert {\n",
              "      background-color: #3B4455;\n",
              "      fill: #D2E3FC;\n",
              "    }\n",
              "\n",
              "    [theme=dark] .colab-df-convert:hover {\n",
              "      background-color: #434B5C;\n",
              "      box-shadow: 0px 1px 3px 1px rgba(0, 0, 0, 0.15);\n",
              "      filter: drop-shadow(0px 1px 2px rgba(0, 0, 0, 0.3));\n",
              "      fill: #FFFFFF;\n",
              "    }\n",
              "  </style>\n",
              "\n",
              "    <script>\n",
              "      const buttonEl =\n",
              "        document.querySelector('#df-605b04a9-75bf-432c-8caa-363e800f7aea button.colab-df-convert');\n",
              "      buttonEl.style.display =\n",
              "        google.colab.kernel.accessAllowed ? 'block' : 'none';\n",
              "\n",
              "      async function convertToInteractive(key) {\n",
              "        const element = document.querySelector('#df-605b04a9-75bf-432c-8caa-363e800f7aea');\n",
              "        const dataTable =\n",
              "          await google.colab.kernel.invokeFunction('convertToInteractive',\n",
              "                                                    [key], {});\n",
              "        if (!dataTable) return;\n",
              "\n",
              "        const docLinkHtml = 'Like what you see? Visit the ' +\n",
              "          '<a target=\"_blank\" href=https://colab.research.google.com/notebooks/data_table.ipynb>data table notebook</a>'\n",
              "          + ' to learn more about interactive tables.';\n",
              "        element.innerHTML = '';\n",
              "        dataTable['output_type'] = 'display_data';\n",
              "        await google.colab.output.renderOutput(dataTable, element);\n",
              "        const docLink = document.createElement('div');\n",
              "        docLink.innerHTML = docLinkHtml;\n",
              "        element.appendChild(docLink);\n",
              "      }\n",
              "    </script>\n",
              "  </div>\n",
              "\n",
              "\n",
              "    <div id=\"df-19eba3b2-7f1d-49e5-8bf5-ed3d3a885a00\">\n",
              "      <button class=\"colab-df-quickchart\" onclick=\"quickchart('df-19eba3b2-7f1d-49e5-8bf5-ed3d3a885a00')\"\n",
              "                title=\"Suggest charts\"\n",
              "                style=\"display:none;\">\n",
              "\n",
              "<svg xmlns=\"http://www.w3.org/2000/svg\" height=\"24px\"viewBox=\"0 0 24 24\"\n",
              "     width=\"24px\">\n",
              "    <g>\n",
              "        <path d=\"M19 3H5c-1.1 0-2 .9-2 2v14c0 1.1.9 2 2 2h14c1.1 0 2-.9 2-2V5c0-1.1-.9-2-2-2zM9 17H7v-7h2v7zm4 0h-2V7h2v10zm4 0h-2v-4h2v4z\"/>\n",
              "    </g>\n",
              "</svg>\n",
              "      </button>\n",
              "\n",
              "<style>\n",
              "  .colab-df-quickchart {\n",
              "      --bg-color: #E8F0FE;\n",
              "      --fill-color: #1967D2;\n",
              "      --hover-bg-color: #E2EBFA;\n",
              "      --hover-fill-color: #174EA6;\n",
              "      --disabled-fill-color: #AAA;\n",
              "      --disabled-bg-color: #DDD;\n",
              "  }\n",
              "\n",
              "  [theme=dark] .colab-df-quickchart {\n",
              "      --bg-color: #3B4455;\n",
              "      --fill-color: #D2E3FC;\n",
              "      --hover-bg-color: #434B5C;\n",
              "      --hover-fill-color: #FFFFFF;\n",
              "      --disabled-bg-color: #3B4455;\n",
              "      --disabled-fill-color: #666;\n",
              "  }\n",
              "\n",
              "  .colab-df-quickchart {\n",
              "    background-color: var(--bg-color);\n",
              "    border: none;\n",
              "    border-radius: 50%;\n",
              "    cursor: pointer;\n",
              "    display: none;\n",
              "    fill: var(--fill-color);\n",
              "    height: 32px;\n",
              "    padding: 0;\n",
              "    width: 32px;\n",
              "  }\n",
              "\n",
              "  .colab-df-quickchart:hover {\n",
              "    background-color: var(--hover-bg-color);\n",
              "    box-shadow: 0 1px 2px rgba(60, 64, 67, 0.3), 0 1px 3px 1px rgba(60, 64, 67, 0.15);\n",
              "    fill: var(--button-hover-fill-color);\n",
              "  }\n",
              "\n",
              "  .colab-df-quickchart-complete:disabled,\n",
              "  .colab-df-quickchart-complete:disabled:hover {\n",
              "    background-color: var(--disabled-bg-color);\n",
              "    fill: var(--disabled-fill-color);\n",
              "    box-shadow: none;\n",
              "  }\n",
              "\n",
              "  .colab-df-spinner {\n",
              "    border: 2px solid var(--fill-color);\n",
              "    border-color: transparent;\n",
              "    border-bottom-color: var(--fill-color);\n",
              "    animation:\n",
              "      spin 1s steps(1) infinite;\n",
              "  }\n",
              "\n",
              "  @keyframes spin {\n",
              "    0% {\n",
              "      border-color: transparent;\n",
              "      border-bottom-color: var(--fill-color);\n",
              "      border-left-color: var(--fill-color);\n",
              "    }\n",
              "    20% {\n",
              "      border-color: transparent;\n",
              "      border-left-color: var(--fill-color);\n",
              "      border-top-color: var(--fill-color);\n",
              "    }\n",
              "    30% {\n",
              "      border-color: transparent;\n",
              "      border-left-color: var(--fill-color);\n",
              "      border-top-color: var(--fill-color);\n",
              "      border-right-color: var(--fill-color);\n",
              "    }\n",
              "    40% {\n",
              "      border-color: transparent;\n",
              "      border-right-color: var(--fill-color);\n",
              "      border-top-color: var(--fill-color);\n",
              "    }\n",
              "    60% {\n",
              "      border-color: transparent;\n",
              "      border-right-color: var(--fill-color);\n",
              "    }\n",
              "    80% {\n",
              "      border-color: transparent;\n",
              "      border-right-color: var(--fill-color);\n",
              "      border-bottom-color: var(--fill-color);\n",
              "    }\n",
              "    90% {\n",
              "      border-color: transparent;\n",
              "      border-bottom-color: var(--fill-color);\n",
              "    }\n",
              "  }\n",
              "</style>\n",
              "\n",
              "      <script>\n",
              "        async function quickchart(key) {\n",
              "          const quickchartButtonEl =\n",
              "            document.querySelector('#' + key + ' button');\n",
              "          quickchartButtonEl.disabled = true;  // To prevent multiple clicks.\n",
              "          quickchartButtonEl.classList.add('colab-df-spinner');\n",
              "          try {\n",
              "            const charts = await google.colab.kernel.invokeFunction(\n",
              "                'suggestCharts', [key], {});\n",
              "          } catch (error) {\n",
              "            console.error('Error during call to suggestCharts:', error);\n",
              "          }\n",
              "          quickchartButtonEl.classList.remove('colab-df-spinner');\n",
              "          quickchartButtonEl.classList.add('colab-df-quickchart-complete');\n",
              "        }\n",
              "        (() => {\n",
              "          let quickchartButtonEl =\n",
              "            document.querySelector('#df-19eba3b2-7f1d-49e5-8bf5-ed3d3a885a00 button');\n",
              "          quickchartButtonEl.style.display =\n",
              "            google.colab.kernel.accessAllowed ? 'block' : 'none';\n",
              "        })();\n",
              "      </script>\n",
              "    </div>\n",
              "\n",
              "    </div>\n",
              "  </div>\n"
            ],
            "application/vnd.google.colaboratory.intrinsic+json": {
              "type": "dataframe",
              "summary": "{\n  \"name\": \"df[df['Customer ID'] == 579]\",\n  \"rows\": 4,\n  \"fields\": [\n    {\n      \"column\": \"Customer ID\",\n      \"properties\": {\n        \"dtype\": \"number\",\n        \"std\": 0,\n        \"min\": 579,\n        \"max\": 579,\n        \"num_unique_values\": 1,\n        \"samples\": [\n          579\n        ],\n        \"semantic_type\": \"\",\n        \"description\": \"\"\n      }\n    },\n    {\n      \"column\": \"Customer Status\",\n      \"properties\": {\n        \"dtype\": \"string\",\n        \"num_unique_values\": 3,\n        \"samples\": [\n          \"Silver\"\n        ],\n        \"semantic_type\": \"\",\n        \"description\": \"\"\n      }\n    },\n    {\n      \"column\": \"Date Order was placed\",\n      \"properties\": {\n        \"dtype\": \"object\",\n        \"num_unique_values\": 4,\n        \"samples\": [\n          \"28-Sep-18\"\n        ],\n        \"semantic_type\": \"\",\n        \"description\": \"\"\n      }\n    },\n    {\n      \"column\": \"Delivery Date\",\n      \"properties\": {\n        \"dtype\": \"object\",\n        \"num_unique_values\": 4,\n        \"samples\": [\n          \"28-Sep-18\"\n        ],\n        \"semantic_type\": \"\",\n        \"description\": \"\"\n      }\n    },\n    {\n      \"column\": \"Order ID\",\n      \"properties\": {\n        \"dtype\": \"number\",\n        \"std\": 664047,\n        \"min\": 123002578,\n        \"max\": 124350126,\n        \"num_unique_values\": 4,\n        \"samples\": [\n          123306088\n        ],\n        \"semantic_type\": \"\",\n        \"description\": \"\"\n      }\n    },\n    {\n      \"column\": \"Product ID\",\n      \"properties\": {\n        \"dtype\": \"number\",\n        \"std\": 11546254990,\n        \"min\": 220101400027,\n        \"max\": 240100100458,\n        \"num_unique_values\": 4,\n        \"samples\": [\n          240100100235\n        ],\n        \"semantic_type\": \"\",\n        \"description\": \"\"\n      }\n    },\n    {\n      \"column\": \"Quantity Ordered\",\n      \"properties\": {\n        \"dtype\": \"number\",\n        \"std\": 0,\n        \"min\": 1,\n        \"max\": 2,\n        \"num_unique_values\": 2,\n        \"samples\": [\n          1\n        ],\n        \"semantic_type\": \"\",\n        \"description\": \"\"\n      }\n    },\n    {\n      \"column\": \"Total Retail Price for This Order\",\n      \"properties\": {\n        \"dtype\": \"number\",\n        \"std\": 64.03599899015136,\n        \"min\": 6.7,\n        \"max\": 139.0,\n        \"num_unique_values\": 4,\n        \"samples\": [\n          13.2\n        ],\n        \"semantic_type\": \"\",\n        \"description\": \"\"\n      }\n    },\n    {\n      \"column\": \"Cost Price Per Unit\",\n      \"properties\": {\n        \"dtype\": \"number\",\n        \"std\": 13.462973916140024,\n        \"min\": 2.95,\n        \"max\": 31.7,\n        \"num_unique_values\": 4,\n        \"samples\": [\n          5.65\n        ],\n        \"semantic_type\": \"\",\n        \"description\": \"\"\n      }\n    }\n  ]\n}"
            }
          },
          "metadata": {},
          "execution_count": 12
        }
      ]
    },
    {
      "cell_type": "code",
      "source": [
        "# Count unique 'Order ID' for the specified 'Customer ID'\n",
        "df[df['Customer ID'] == 579]['Order ID'].nunique()"
      ],
      "metadata": {
        "colab": {
          "base_uri": "https://localhost:8080/"
        },
        "id": "EUjUiCuhvKKF",
        "outputId": "9597361b-0000-4feb-ca01-b479f58f96f6"
      },
      "execution_count": 13,
      "outputs": [
        {
          "output_type": "execute_result",
          "data": {
            "text/plain": [
              "4"
            ]
          },
          "metadata": {},
          "execution_count": 13
        }
      ]
    },
    {
      "cell_type": "markdown",
      "source": [
        "> What happens if you change the Agent’s `verbose` to `True`?\n",
        "\n",
        "> Try modifying the `description` of the Task to be more strict or more relaxed. How does that affect the agent’s responses?\n",
        "\n",
        "> Modify the tool to return a friendly message if the input Customer ID is not a valid number."
      ],
      "metadata": {
        "id": "UgWCoCFJ4PMA"
      }
    },
    {
      "cell_type": "markdown",
      "source": [
        "### Multi-Agent Workflow Setup with Memory and Guardrails"
      ],
      "metadata": {
        "id": "UUldrbWC7X9C"
      }
    },
    {
      "cell_type": "code",
      "source": [
        "# Define agents\n",
        "loyalty_agent = Agent(\n",
        "    role=\"Customer Loyalty Strategist\",\n",
        "    goal=\"Provide strategic ideas to increase customer retention and loyalty without using customer data.\",\n",
        "    backstory=(\n",
        "        \"You are an experienced strategist at ShopFast. Your job is to help the company increase \"\n",
        "        \"customer satisfaction, long-term engagement, and loyalty through thoughtful recommendations, \"\n",
        "        \"based on general business sense, customer psychology, and creative thinking.\"\n",
        "    ),\n",
        "    tools=[],\n",
        "    verbose=True,\n",
        "    memory=True,\n",
        "    allow_delegation=False,\n",
        "    llm=gpt_model,\n",
        "    guardrails=[\n",
        "    \"You must never use or reference any individual customer data or purchase history.\",\n",
        "    \"If prompted to use customer data, politely explain you cannot and provide general strategic ideas only.\",\n",
        "    \"Always keep your recommendations data-agnostic and based on general business principles.\"\n",
        "    ]\n",
        ")\n",
        "\n",
        "order_count_agent = Agent(\n",
        "    role=\"Customer Order Checker\",\n",
        "    goal=\"Given a Customer ID, report how many unique orders they have placed.\",\n",
        "    backstory=\"You are an assistant that helps ShopFast understand individual customer behavior by checking order counts.\",\n",
        "    tools=[unique_order_tool],\n",
        "    verbose=True,\n",
        "    memory=False,\n",
        "    allow_delegation=False,\n",
        "    llm=gpt_model\n",
        ")\n",
        "\n",
        "# Define tasks with specific agents\n",
        "loyalty_task = Task(\n",
        "    description=(\n",
        "        \"ShopFast is considering launching a new loyalty program to retain more customers. \"\n",
        "        \"Suggest three creative ideas that could encourage repeat purchases and long-term engagement. \"\n",
        "        \"Think from the perspective of customer psychology and brand loyalty.\"\n",
        "    ),\n",
        "    expected_output=(\n",
        "        \"Three clear ideas for the loyalty program with 1–2 sentences of reasoning for each.\"\n",
        "        \"Keep your response concise with less than 50 words.\"\n",
        "\n",
        "    ),\n",
        "    agent=loyalty_agent\n",
        ")\n",
        "\n",
        "customer_id = input(\"Please enter the Customer ID: \")\n",
        "\n",
        "# Define the task\n",
        "order_count_task = Task(\n",
        "    description=(\n",
        "        f\"Use the tool to find how many unique 'Order ID' values are associated with the customer \"\n",
        "        f\"who has Customer ID '{customer_id}'. Output just the number and a short sentence explaining the result.\"\n",
        "    ),\n",
        "    expected_output= \"A sentence like: 'Customer 7574 has placed 1 unique orders.'\",\n",
        "    agent=order_count_agent\n",
        ")\n",
        "\n",
        "# Run the crew with both tasks (in order)\n",
        "crew = Crew(\n",
        "    agents=[order_count_agent, loyalty_agent],\n",
        "    tasks=[order_count_task, loyalty_task]  # Order matters\n",
        ")\n",
        "\n",
        "result = crew.kickoff()\n",
        "\n",
        "# Output results\n",
        "print(\"\\n--- Task Results ---\\n\")\n",
        "for task_output in result.tasks_output:\n",
        "    print(f\"Task:\\n{task_output.description}\\n\\nOutput:\\n{task_output.raw}\\n\")"
      ],
      "metadata": {
        "colab": {
          "base_uri": "https://localhost:8080/",
          "height": 1000
        },
        "id": "apam35pHEfD6",
        "outputId": "bfb6d03f-ade6-4c2a-d226-1089d18b895d"
      },
      "execution_count": 28,
      "outputs": [
        {
          "name": "stdout",
          "output_type": "stream",
          "text": [
            "Please enter the Customer ID: 579\n"
          ]
        },
        {
          "output_type": "display_data",
          "data": {
            "text/plain": [
              "\u001b[35m╭─\u001b[0m\u001b[35m──────────────────────────────────────────────\u001b[0m\u001b[35m 🤖 Agent Started \u001b[0m\u001b[35m───────────────────────────────────────────────\u001b[0m\u001b[35m─╮\u001b[0m\n",
              "\u001b[35m│\u001b[0m                                                                                                                 \u001b[35m│\u001b[0m\n",
              "\u001b[35m│\u001b[0m  \u001b[37mAgent: \u001b[0m\u001b[1;92mCustomer Order Checker\u001b[0m                                                                                  \u001b[35m│\u001b[0m\n",
              "\u001b[35m│\u001b[0m                                                                                                                 \u001b[35m│\u001b[0m\n",
              "\u001b[35m│\u001b[0m  \u001b[37mTask: \u001b[0m\u001b[92mUse the tool to find how many unique 'Order ID' values are associated with the customer who has \u001b[0m         \u001b[35m│\u001b[0m\n",
              "\u001b[35m│\u001b[0m  \u001b[92mCustomer ID '579'. Output just the number and a short sentence explaining the result.\u001b[0m                          \u001b[35m│\u001b[0m\n",
              "\u001b[35m│\u001b[0m                                                                                                                 \u001b[35m│\u001b[0m\n",
              "\u001b[35m╰─────────────────────────────────────────────────────────────────────────────────────────────────────────────────╯\u001b[0m\n"
            ],
            "text/html": [
              "<pre style=\"white-space:pre;overflow-x:auto;line-height:normal;font-family:Menlo,'DejaVu Sans Mono',consolas,'Courier New',monospace\"><span style=\"color: #800080; text-decoration-color: #800080\">╭─────────────────────────────────────────────── 🤖 Agent Started ────────────────────────────────────────────────╮</span>\n",
              "<span style=\"color: #800080; text-decoration-color: #800080\">│</span>                                                                                                                 <span style=\"color: #800080; text-decoration-color: #800080\">│</span>\n",
              "<span style=\"color: #800080; text-decoration-color: #800080\">│</span>  <span style=\"color: #c0c0c0; text-decoration-color: #c0c0c0\">Agent: </span><span style=\"color: #00ff00; text-decoration-color: #00ff00; font-weight: bold\">Customer Order Checker</span>                                                                                  <span style=\"color: #800080; text-decoration-color: #800080\">│</span>\n",
              "<span style=\"color: #800080; text-decoration-color: #800080\">│</span>                                                                                                                 <span style=\"color: #800080; text-decoration-color: #800080\">│</span>\n",
              "<span style=\"color: #800080; text-decoration-color: #800080\">│</span>  <span style=\"color: #c0c0c0; text-decoration-color: #c0c0c0\">Task: </span><span style=\"color: #00ff00; text-decoration-color: #00ff00\">Use the tool to find how many unique 'Order ID' values are associated with the customer who has </span>         <span style=\"color: #800080; text-decoration-color: #800080\">│</span>\n",
              "<span style=\"color: #800080; text-decoration-color: #800080\">│</span>  <span style=\"color: #00ff00; text-decoration-color: #00ff00\">Customer ID '579'. Output just the number and a short sentence explaining the result.</span>                          <span style=\"color: #800080; text-decoration-color: #800080\">│</span>\n",
              "<span style=\"color: #800080; text-decoration-color: #800080\">│</span>                                                                                                                 <span style=\"color: #800080; text-decoration-color: #800080\">│</span>\n",
              "<span style=\"color: #800080; text-decoration-color: #800080\">╰─────────────────────────────────────────────────────────────────────────────────────────────────────────────────╯</span>\n",
              "</pre>\n"
            ]
          },
          "metadata": {}
        },
        {
          "output_type": "display_data",
          "data": {
            "text/plain": [
              "\n"
            ],
            "text/html": [
              "<pre style=\"white-space:pre;overflow-x:auto;line-height:normal;font-family:Menlo,'DejaVu Sans Mono',consolas,'Courier New',monospace\">\n",
              "</pre>\n"
            ]
          },
          "metadata": {}
        },
        {
          "output_type": "stream",
          "name": "stdout",
          "text": [
            "DEBUG: Received customer_id: 579\n"
          ]
        },
        {
          "output_type": "display_data",
          "data": {
            "text/plain": [
              "\u001b[35m╭─\u001b[0m\u001b[35m───────────────────────────────────────────\u001b[0m\u001b[35m 🔧 Agent Tool Execution \u001b[0m\u001b[35m───────────────────────────────────────────\u001b[0m\u001b[35m─╮\u001b[0m\n",
              "\u001b[35m│\u001b[0m                                                                                                                 \u001b[35m│\u001b[0m\n",
              "\u001b[35m│\u001b[0m  \u001b[37mAgent: \u001b[0m\u001b[1;92mCustomer Order Checker\u001b[0m                                                                                  \u001b[35m│\u001b[0m\n",
              "\u001b[35m│\u001b[0m                                                                                                                 \u001b[35m│\u001b[0m\n",
              "\u001b[35m│\u001b[0m  \u001b[37mThought: \u001b[0m\u001b[92mThought: I need to find the number of unique orders placed by the customer with Customer ID '579'.\u001b[0m    \u001b[35m│\u001b[0m\n",
              "\u001b[35m│\u001b[0m                                                                                                                 \u001b[35m│\u001b[0m\n",
              "\u001b[35m│\u001b[0m  \u001b[37mUsing Tool: \u001b[0m\u001b[1;92mUnique Order Count Tool\u001b[0m                                                                            \u001b[35m│\u001b[0m\n",
              "\u001b[35m│\u001b[0m                                                                                                                 \u001b[35m│\u001b[0m\n",
              "\u001b[35m╰─────────────────────────────────────────────────────────────────────────────────────────────────────────────────╯\u001b[0m\n"
            ],
            "text/html": [
              "<pre style=\"white-space:pre;overflow-x:auto;line-height:normal;font-family:Menlo,'DejaVu Sans Mono',consolas,'Courier New',monospace\"><span style=\"color: #800080; text-decoration-color: #800080\">╭──────────────────────────────────────────── 🔧 Agent Tool Execution ────────────────────────────────────────────╮</span>\n",
              "<span style=\"color: #800080; text-decoration-color: #800080\">│</span>                                                                                                                 <span style=\"color: #800080; text-decoration-color: #800080\">│</span>\n",
              "<span style=\"color: #800080; text-decoration-color: #800080\">│</span>  <span style=\"color: #c0c0c0; text-decoration-color: #c0c0c0\">Agent: </span><span style=\"color: #00ff00; text-decoration-color: #00ff00; font-weight: bold\">Customer Order Checker</span>                                                                                  <span style=\"color: #800080; text-decoration-color: #800080\">│</span>\n",
              "<span style=\"color: #800080; text-decoration-color: #800080\">│</span>                                                                                                                 <span style=\"color: #800080; text-decoration-color: #800080\">│</span>\n",
              "<span style=\"color: #800080; text-decoration-color: #800080\">│</span>  <span style=\"color: #c0c0c0; text-decoration-color: #c0c0c0\">Thought: </span><span style=\"color: #00ff00; text-decoration-color: #00ff00\">Thought: I need to find the number of unique orders placed by the customer with Customer ID '579'.</span>    <span style=\"color: #800080; text-decoration-color: #800080\">│</span>\n",
              "<span style=\"color: #800080; text-decoration-color: #800080\">│</span>                                                                                                                 <span style=\"color: #800080; text-decoration-color: #800080\">│</span>\n",
              "<span style=\"color: #800080; text-decoration-color: #800080\">│</span>  <span style=\"color: #c0c0c0; text-decoration-color: #c0c0c0\">Using Tool: </span><span style=\"color: #00ff00; text-decoration-color: #00ff00; font-weight: bold\">Unique Order Count Tool</span>                                                                            <span style=\"color: #800080; text-decoration-color: #800080\">│</span>\n",
              "<span style=\"color: #800080; text-decoration-color: #800080\">│</span>                                                                                                                 <span style=\"color: #800080; text-decoration-color: #800080\">│</span>\n",
              "<span style=\"color: #800080; text-decoration-color: #800080\">╰─────────────────────────────────────────────────────────────────────────────────────────────────────────────────╯</span>\n",
              "</pre>\n"
            ]
          },
          "metadata": {}
        },
        {
          "output_type": "display_data",
          "data": {
            "text/plain": [
              "\u001b[34m╭─\u001b[0m\u001b[34m─────────────────────────────────────────────────\u001b[0m\u001b[34m Tool Input \u001b[0m\u001b[34m──────────────────────────────────────────────────\u001b[0m\u001b[34m─╮\u001b[0m\n",
              "\u001b[34m│\u001b[0m                                                                                                                 \u001b[34m│\u001b[0m\n",
              "\u001b[34m│\u001b[0m  \u001b[38;2;230;219;116;49m\"{\\\"customer_id\\\": \\\"579\\\"}\"\u001b[0m                                                                                   \u001b[34m│\u001b[0m\n",
              "\u001b[34m│\u001b[0m                                                                                                                 \u001b[34m│\u001b[0m\n",
              "\u001b[34m╰─────────────────────────────────────────────────────────────────────────────────────────────────────────────────╯\u001b[0m\n"
            ],
            "text/html": [
              "<pre style=\"white-space:pre;overflow-x:auto;line-height:normal;font-family:Menlo,'DejaVu Sans Mono',consolas,'Courier New',monospace\"><span style=\"color: #000080; text-decoration-color: #000080\">╭────────────────────────────────────────────────── Tool Input ───────────────────────────────────────────────────╮</span>\n",
              "<span style=\"color: #000080; text-decoration-color: #000080\">│</span>                                                                                                                 <span style=\"color: #000080; text-decoration-color: #000080\">│</span>\n",
              "<span style=\"color: #000080; text-decoration-color: #000080\">│</span>  <span style=\"color: #e6db74; text-decoration-color: #e6db74; background-color: #ffffff\">\"{\\\"customer_id\\\": \\\"579\\\"}\"</span>                                                                                   <span style=\"color: #000080; text-decoration-color: #000080\">│</span>\n",
              "<span style=\"color: #000080; text-decoration-color: #000080\">│</span>                                                                                                                 <span style=\"color: #000080; text-decoration-color: #000080\">│</span>\n",
              "<span style=\"color: #000080; text-decoration-color: #000080\">╰─────────────────────────────────────────────────────────────────────────────────────────────────────────────────╯</span>\n",
              "</pre>\n"
            ]
          },
          "metadata": {}
        },
        {
          "output_type": "display_data",
          "data": {
            "text/plain": [
              "\u001b[32m╭─\u001b[0m\u001b[32m─────────────────────────────────────────────────\u001b[0m\u001b[32m Tool Output \u001b[0m\u001b[32m─────────────────────────────────────────────────\u001b[0m\u001b[32m─╮\u001b[0m\n",
              "\u001b[32m│\u001b[0m                                                                                                                 \u001b[32m│\u001b[0m\n",
              "\u001b[32m│\u001b[0m  \u001b[92mCustomer 579 has placed 4 unique orders.\u001b[0m                                                                       \u001b[32m│\u001b[0m\n",
              "\u001b[32m│\u001b[0m                                                                                                                 \u001b[32m│\u001b[0m\n",
              "\u001b[32m╰─────────────────────────────────────────────────────────────────────────────────────────────────────────────────╯\u001b[0m\n"
            ],
            "text/html": [
              "<pre style=\"white-space:pre;overflow-x:auto;line-height:normal;font-family:Menlo,'DejaVu Sans Mono',consolas,'Courier New',monospace\"><span style=\"color: #008000; text-decoration-color: #008000\">╭────────────────────────────────────────────────── Tool Output ──────────────────────────────────────────────────╮</span>\n",
              "<span style=\"color: #008000; text-decoration-color: #008000\">│</span>                                                                                                                 <span style=\"color: #008000; text-decoration-color: #008000\">│</span>\n",
              "<span style=\"color: #008000; text-decoration-color: #008000\">│</span>  <span style=\"color: #00ff00; text-decoration-color: #00ff00\">Customer 579 has placed 4 unique orders.</span>                                                                       <span style=\"color: #008000; text-decoration-color: #008000\">│</span>\n",
              "<span style=\"color: #008000; text-decoration-color: #008000\">│</span>                                                                                                                 <span style=\"color: #008000; text-decoration-color: #008000\">│</span>\n",
              "<span style=\"color: #008000; text-decoration-color: #008000\">╰─────────────────────────────────────────────────────────────────────────────────────────────────────────────────╯</span>\n",
              "</pre>\n"
            ]
          },
          "metadata": {}
        },
        {
          "output_type": "display_data",
          "data": {
            "text/plain": [
              "\n"
            ],
            "text/html": [
              "<pre style=\"white-space:pre;overflow-x:auto;line-height:normal;font-family:Menlo,'DejaVu Sans Mono',consolas,'Courier New',monospace\">\n",
              "</pre>\n"
            ]
          },
          "metadata": {}
        },
        {
          "output_type": "display_data",
          "data": {
            "text/plain": [
              "\u001b[32m╭─\u001b[0m\u001b[32m────────────────────────────────────────────\u001b[0m\u001b[32m ✅ Agent Final Answer \u001b[0m\u001b[32m────────────────────────────────────────────\u001b[0m\u001b[32m─╮\u001b[0m\n",
              "\u001b[32m│\u001b[0m                                                                                                                 \u001b[32m│\u001b[0m\n",
              "\u001b[32m│\u001b[0m  \u001b[37mAgent: \u001b[0m\u001b[1;92mCustomer Order Checker\u001b[0m                                                                                  \u001b[32m│\u001b[0m\n",
              "\u001b[32m│\u001b[0m                                                                                                                 \u001b[32m│\u001b[0m\n",
              "\u001b[32m│\u001b[0m  \u001b[37mFinal Answer:\u001b[0m                                                                                                  \u001b[32m│\u001b[0m\n",
              "\u001b[32m│\u001b[0m  \u001b[92mCustomer 579 has placed 4 unique orders.\u001b[0m                                                                       \u001b[32m│\u001b[0m\n",
              "\u001b[32m│\u001b[0m                                                                                                                 \u001b[32m│\u001b[0m\n",
              "\u001b[32m╰─────────────────────────────────────────────────────────────────────────────────────────────────────────────────╯\u001b[0m\n"
            ],
            "text/html": [
              "<pre style=\"white-space:pre;overflow-x:auto;line-height:normal;font-family:Menlo,'DejaVu Sans Mono',consolas,'Courier New',monospace\"><span style=\"color: #008000; text-decoration-color: #008000\">╭───────────────────────────────────────────── ✅ Agent Final Answer ─────────────────────────────────────────────╮</span>\n",
              "<span style=\"color: #008000; text-decoration-color: #008000\">│</span>                                                                                                                 <span style=\"color: #008000; text-decoration-color: #008000\">│</span>\n",
              "<span style=\"color: #008000; text-decoration-color: #008000\">│</span>  <span style=\"color: #c0c0c0; text-decoration-color: #c0c0c0\">Agent: </span><span style=\"color: #00ff00; text-decoration-color: #00ff00; font-weight: bold\">Customer Order Checker</span>                                                                                  <span style=\"color: #008000; text-decoration-color: #008000\">│</span>\n",
              "<span style=\"color: #008000; text-decoration-color: #008000\">│</span>                                                                                                                 <span style=\"color: #008000; text-decoration-color: #008000\">│</span>\n",
              "<span style=\"color: #008000; text-decoration-color: #008000\">│</span>  <span style=\"color: #c0c0c0; text-decoration-color: #c0c0c0\">Final Answer:</span>                                                                                                  <span style=\"color: #008000; text-decoration-color: #008000\">│</span>\n",
              "<span style=\"color: #008000; text-decoration-color: #008000\">│</span>  <span style=\"color: #00ff00; text-decoration-color: #00ff00\">Customer 579 has placed 4 unique orders.</span>                                                                       <span style=\"color: #008000; text-decoration-color: #008000\">│</span>\n",
              "<span style=\"color: #008000; text-decoration-color: #008000\">│</span>                                                                                                                 <span style=\"color: #008000; text-decoration-color: #008000\">│</span>\n",
              "<span style=\"color: #008000; text-decoration-color: #008000\">╰─────────────────────────────────────────────────────────────────────────────────────────────────────────────────╯</span>\n",
              "</pre>\n"
            ]
          },
          "metadata": {}
        },
        {
          "output_type": "display_data",
          "data": {
            "text/plain": [
              "\n"
            ],
            "text/html": [
              "<pre style=\"white-space:pre;overflow-x:auto;line-height:normal;font-family:Menlo,'DejaVu Sans Mono',consolas,'Courier New',monospace\">\n",
              "</pre>\n"
            ]
          },
          "metadata": {}
        },
        {
          "output_type": "display_data",
          "data": {
            "text/plain": [
              "\u001b[35m╭─\u001b[0m\u001b[35m──────────────────────────────────────────────\u001b[0m\u001b[35m 🤖 Agent Started \u001b[0m\u001b[35m───────────────────────────────────────────────\u001b[0m\u001b[35m─╮\u001b[0m\n",
              "\u001b[35m│\u001b[0m                                                                                                                 \u001b[35m│\u001b[0m\n",
              "\u001b[35m│\u001b[0m  \u001b[37mAgent: \u001b[0m\u001b[1;92mCustomer Loyalty Strategist\u001b[0m                                                                             \u001b[35m│\u001b[0m\n",
              "\u001b[35m│\u001b[0m                                                                                                                 \u001b[35m│\u001b[0m\n",
              "\u001b[35m│\u001b[0m  \u001b[37mTask: \u001b[0m\u001b[92mShopFast is considering launching a new loyalty program to retain more customers. Suggest three \u001b[0m         \u001b[35m│\u001b[0m\n",
              "\u001b[35m│\u001b[0m  \u001b[92mcreative ideas that could encourage repeat purchases and long-term engagement. Think from the perspective of \u001b[0m  \u001b[35m│\u001b[0m\n",
              "\u001b[35m│\u001b[0m  \u001b[92mcustomer psychology and brand loyalty.\u001b[0m                                                                         \u001b[35m│\u001b[0m\n",
              "\u001b[35m│\u001b[0m                                                                                                                 \u001b[35m│\u001b[0m\n",
              "\u001b[35m╰─────────────────────────────────────────────────────────────────────────────────────────────────────────────────╯\u001b[0m\n"
            ],
            "text/html": [
              "<pre style=\"white-space:pre;overflow-x:auto;line-height:normal;font-family:Menlo,'DejaVu Sans Mono',consolas,'Courier New',monospace\"><span style=\"color: #800080; text-decoration-color: #800080\">╭─────────────────────────────────────────────── 🤖 Agent Started ────────────────────────────────────────────────╮</span>\n",
              "<span style=\"color: #800080; text-decoration-color: #800080\">│</span>                                                                                                                 <span style=\"color: #800080; text-decoration-color: #800080\">│</span>\n",
              "<span style=\"color: #800080; text-decoration-color: #800080\">│</span>  <span style=\"color: #c0c0c0; text-decoration-color: #c0c0c0\">Agent: </span><span style=\"color: #00ff00; text-decoration-color: #00ff00; font-weight: bold\">Customer Loyalty Strategist</span>                                                                             <span style=\"color: #800080; text-decoration-color: #800080\">│</span>\n",
              "<span style=\"color: #800080; text-decoration-color: #800080\">│</span>                                                                                                                 <span style=\"color: #800080; text-decoration-color: #800080\">│</span>\n",
              "<span style=\"color: #800080; text-decoration-color: #800080\">│</span>  <span style=\"color: #c0c0c0; text-decoration-color: #c0c0c0\">Task: </span><span style=\"color: #00ff00; text-decoration-color: #00ff00\">ShopFast is considering launching a new loyalty program to retain more customers. Suggest three </span>         <span style=\"color: #800080; text-decoration-color: #800080\">│</span>\n",
              "<span style=\"color: #800080; text-decoration-color: #800080\">│</span>  <span style=\"color: #00ff00; text-decoration-color: #00ff00\">creative ideas that could encourage repeat purchases and long-term engagement. Think from the perspective of </span>  <span style=\"color: #800080; text-decoration-color: #800080\">│</span>\n",
              "<span style=\"color: #800080; text-decoration-color: #800080\">│</span>  <span style=\"color: #00ff00; text-decoration-color: #00ff00\">customer psychology and brand loyalty.</span>                                                                         <span style=\"color: #800080; text-decoration-color: #800080\">│</span>\n",
              "<span style=\"color: #800080; text-decoration-color: #800080\">│</span>                                                                                                                 <span style=\"color: #800080; text-decoration-color: #800080\">│</span>\n",
              "<span style=\"color: #800080; text-decoration-color: #800080\">╰─────────────────────────────────────────────────────────────────────────────────────────────────────────────────╯</span>\n",
              "</pre>\n"
            ]
          },
          "metadata": {}
        },
        {
          "output_type": "display_data",
          "data": {
            "text/plain": [
              "\n"
            ],
            "text/html": [
              "<pre style=\"white-space:pre;overflow-x:auto;line-height:normal;font-family:Menlo,'DejaVu Sans Mono',consolas,'Courier New',monospace\">\n",
              "</pre>\n"
            ]
          },
          "metadata": {}
        },
        {
          "output_type": "display_data",
          "data": {
            "text/plain": [
              "\u001b[32m╭─\u001b[0m\u001b[32m────────────────────────────────────────────\u001b[0m\u001b[32m ✅ Agent Final Answer \u001b[0m\u001b[32m────────────────────────────────────────────\u001b[0m\u001b[32m─╮\u001b[0m\n",
              "\u001b[32m│\u001b[0m                                                                                                                 \u001b[32m│\u001b[0m\n",
              "\u001b[32m│\u001b[0m  \u001b[37mAgent: \u001b[0m\u001b[1;92mCustomer Loyalty Strategist\u001b[0m                                                                             \u001b[32m│\u001b[0m\n",
              "\u001b[32m│\u001b[0m                                                                                                                 \u001b[32m│\u001b[0m\n",
              "\u001b[32m│\u001b[0m  \u001b[37mFinal Answer:\u001b[0m                                                                                                  \u001b[32m│\u001b[0m\n",
              "\u001b[32m│\u001b[0m  \u001b[92m1. Tiered Rewards: Offer escalating benefits as customers make more purchases, leveraging the desire for \u001b[0m      \u001b[32m│\u001b[0m\n",
              "\u001b[32m│\u001b[0m  \u001b[92mstatus and achievement.\u001b[0m                                                                                        \u001b[32m│\u001b[0m\n",
              "\u001b[32m│\u001b[0m  \u001b[92m2. Surprise Bonuses: Randomly reward loyal customers with unexpected perks, tapping into the excitement of \u001b[0m    \u001b[32m│\u001b[0m\n",
              "\u001b[32m│\u001b[0m  \u001b[92munpredictability.\u001b[0m                                                                                              \u001b[32m│\u001b[0m\n",
              "\u001b[32m│\u001b[0m  \u001b[92m3. Community Access: Create exclusive events or forums for members, fostering a sense of belonging and brand \u001b[0m  \u001b[32m│\u001b[0m\n",
              "\u001b[32m│\u001b[0m  \u001b[92mconnection.\u001b[0m                                                                                                    \u001b[32m│\u001b[0m\n",
              "\u001b[32m│\u001b[0m                                                                                                                 \u001b[32m│\u001b[0m\n",
              "\u001b[32m╰─────────────────────────────────────────────────────────────────────────────────────────────────────────────────╯\u001b[0m\n"
            ],
            "text/html": [
              "<pre style=\"white-space:pre;overflow-x:auto;line-height:normal;font-family:Menlo,'DejaVu Sans Mono',consolas,'Courier New',monospace\"><span style=\"color: #008000; text-decoration-color: #008000\">╭───────────────────────────────────────────── ✅ Agent Final Answer ─────────────────────────────────────────────╮</span>\n",
              "<span style=\"color: #008000; text-decoration-color: #008000\">│</span>                                                                                                                 <span style=\"color: #008000; text-decoration-color: #008000\">│</span>\n",
              "<span style=\"color: #008000; text-decoration-color: #008000\">│</span>  <span style=\"color: #c0c0c0; text-decoration-color: #c0c0c0\">Agent: </span><span style=\"color: #00ff00; text-decoration-color: #00ff00; font-weight: bold\">Customer Loyalty Strategist</span>                                                                             <span style=\"color: #008000; text-decoration-color: #008000\">│</span>\n",
              "<span style=\"color: #008000; text-decoration-color: #008000\">│</span>                                                                                                                 <span style=\"color: #008000; text-decoration-color: #008000\">│</span>\n",
              "<span style=\"color: #008000; text-decoration-color: #008000\">│</span>  <span style=\"color: #c0c0c0; text-decoration-color: #c0c0c0\">Final Answer:</span>                                                                                                  <span style=\"color: #008000; text-decoration-color: #008000\">│</span>\n",
              "<span style=\"color: #008000; text-decoration-color: #008000\">│</span>  <span style=\"color: #00ff00; text-decoration-color: #00ff00\">1. Tiered Rewards: Offer escalating benefits as customers make more purchases, leveraging the desire for </span>      <span style=\"color: #008000; text-decoration-color: #008000\">│</span>\n",
              "<span style=\"color: #008000; text-decoration-color: #008000\">│</span>  <span style=\"color: #00ff00; text-decoration-color: #00ff00\">status and achievement.</span>                                                                                        <span style=\"color: #008000; text-decoration-color: #008000\">│</span>\n",
              "<span style=\"color: #008000; text-decoration-color: #008000\">│</span>  <span style=\"color: #00ff00; text-decoration-color: #00ff00\">2. Surprise Bonuses: Randomly reward loyal customers with unexpected perks, tapping into the excitement of </span>    <span style=\"color: #008000; text-decoration-color: #008000\">│</span>\n",
              "<span style=\"color: #008000; text-decoration-color: #008000\">│</span>  <span style=\"color: #00ff00; text-decoration-color: #00ff00\">unpredictability.</span>                                                                                              <span style=\"color: #008000; text-decoration-color: #008000\">│</span>\n",
              "<span style=\"color: #008000; text-decoration-color: #008000\">│</span>  <span style=\"color: #00ff00; text-decoration-color: #00ff00\">3. Community Access: Create exclusive events or forums for members, fostering a sense of belonging and brand </span>  <span style=\"color: #008000; text-decoration-color: #008000\">│</span>\n",
              "<span style=\"color: #008000; text-decoration-color: #008000\">│</span>  <span style=\"color: #00ff00; text-decoration-color: #00ff00\">connection.</span>                                                                                                    <span style=\"color: #008000; text-decoration-color: #008000\">│</span>\n",
              "<span style=\"color: #008000; text-decoration-color: #008000\">│</span>                                                                                                                 <span style=\"color: #008000; text-decoration-color: #008000\">│</span>\n",
              "<span style=\"color: #008000; text-decoration-color: #008000\">╰─────────────────────────────────────────────────────────────────────────────────────────────────────────────────╯</span>\n",
              "</pre>\n"
            ]
          },
          "metadata": {}
        },
        {
          "output_type": "display_data",
          "data": {
            "text/plain": [
              "\n"
            ],
            "text/html": [
              "<pre style=\"white-space:pre;overflow-x:auto;line-height:normal;font-family:Menlo,'DejaVu Sans Mono',consolas,'Courier New',monospace\">\n",
              "</pre>\n"
            ]
          },
          "metadata": {}
        },
        {
          "output_type": "stream",
          "name": "stdout",
          "text": [
            "\n",
            "--- Task Results ---\n",
            "\n",
            "Task:\n",
            "Use the tool to find how many unique 'Order ID' values are associated with the customer who has Customer ID '579'. Output just the number and a short sentence explaining the result.\n",
            "\n",
            "Output:\n",
            "Customer 579 has placed 4 unique orders.\n",
            "\n",
            "Task:\n",
            "ShopFast is considering launching a new loyalty program to retain more customers. Suggest three creative ideas that could encourage repeat purchases and long-term engagement. Think from the perspective of customer psychology and brand loyalty.\n",
            "\n",
            "Output:\n",
            "1. Tiered Rewards: Offer escalating benefits as customers make more purchases, leveraging the desire for status and achievement.\n",
            "2. Surprise Bonuses: Randomly reward loyal customers with unexpected perks, tapping into the excitement of unpredictability.\n",
            "3. Community Access: Create exclusive events or forums for members, fostering a sense of belonging and brand connection.\n",
            "\n"
          ]
        }
      ]
    },
    {
      "cell_type": "markdown",
      "source": [
        "> What happens if you run the Crew with agents in a different order? Does that change the output order?\n",
        "\n",
        "> Update `expected_output` of the loyalty_task that tells it to keep answers under 50 words. What changes do you observe?"
      ],
      "metadata": {
        "id": "74mUWABlSfxY"
      }
    },
    {
      "cell_type": "markdown",
      "source": [
        "### Building a Simple Support Agent with AutoGen"
      ],
      "metadata": {
        "id": "g1Lmopjf8ks_"
      }
    },
    {
      "cell_type": "code",
      "source": [
        "from autogen import AssistantAgent, UserProxyAgent\n",
        "\n",
        "import warnings\n",
        "warnings.filterwarnings(\"ignore\", category=ResourceWarning)"
      ],
      "metadata": {
        "id": "buf9m98F6S59"
      },
      "execution_count": 29,
      "outputs": []
    },
    {
      "cell_type": "code",
      "source": [
        "# Define the assistant\n",
        "support_agent = AssistantAgent(\n",
        "    name=\"SupportAgent\",\n",
        "    system_message=\"You are a helpful customer support assistant for ShopFast.\",\n",
        "    llm_config={\"model\": \"gpt-4.1-mini\", \"temperature\": 0.3}\n",
        ")\n",
        "\n",
        "# Define the user proxy\n",
        "customer = UserProxyAgent(\n",
        "    name=\"Customer\",\n",
        "    human_input_mode=\"ALWAYS\",  # Ask for real user input\n",
        "    max_consecutive_auto_reply=3,\n",
        "    code_execution_config={\"use_docker\": False}\n",
        ")\n",
        "\n",
        "# Start a simple conversation\n",
        "customer.initiate_chat(\n",
        "    support_agent,\n",
        "    message=\"How can I track my order?\"\n",
        ")"
      ],
      "metadata": {
        "colab": {
          "base_uri": "https://localhost:8080/"
        },
        "id": "orvV0BKyg6ex",
        "outputId": "d4589210-39d7-4ccd-cb17-752b2b073e57"
      },
      "execution_count": 31,
      "outputs": [
        {
          "output_type": "stream",
          "name": "stdout",
          "text": [
            "Customer (to SupportAgent):\n",
            "\n",
            "How can I track my order?\n",
            "\n",
            "--------------------------------------------------------------------------------\n",
            "SupportAgent (to Customer):\n",
            "\n",
            "You can track your order by following these steps:\n",
            "\n",
            "1. Log in to your ShopFast account.\n",
            "2. Go to the \"My Orders\" section.\n",
            "3. Select the order you want to track.\n",
            "4. Click on the \"Track Order\" button to see the latest status and tracking details.\n",
            "\n",
            "If you need further assistance, please provide your order number, and I'll help you track it.\n",
            "\n",
            "--------------------------------------------------------------------------------\n",
            "\n",
            ">>>>>>>> USING AUTO REPLY...\n",
            "Customer (to SupportAgent):\n",
            "\n",
            "\n",
            "\n",
            "--------------------------------------------------------------------------------\n",
            "SupportAgent (to Customer):\n",
            "\n",
            "It looks like your message didn't come through. How can I assist you today?\n",
            "\n",
            "--------------------------------------------------------------------------------\n",
            "\n",
            ">>>>>>>> USING AUTO REPLY...\n",
            "Customer (to SupportAgent):\n",
            "\n",
            "\n",
            "\n",
            "--------------------------------------------------------------------------------\n",
            "SupportAgent (to Customer):\n",
            "\n",
            "I’m here to help! If you have any questions or need assistance, please let me know.\n",
            "\n",
            "--------------------------------------------------------------------------------\n",
            "\n",
            ">>>>>>>> USING AUTO REPLY...\n",
            "Customer (to SupportAgent):\n",
            "\n",
            "\n",
            "\n",
            "--------------------------------------------------------------------------------\n",
            "SupportAgent (to Customer):\n",
            "\n",
            "It seems like your messages are coming through blank. If you're experiencing any issues or need help, please try typing your message again or let me know how I can assist you!\n",
            "\n",
            "--------------------------------------------------------------------------------\n",
            "Please give feedback to SupportAgent. Press enter to skip and use auto-reply, or type 'exit' to stop the conversation: give me your website\n",
            "Customer (to SupportAgent):\n",
            "\n",
            "give me your website\n",
            "\n",
            "--------------------------------------------------------------------------------\n",
            "SupportAgent (to Customer):\n",
            "\n",
            "You can visit our website at www.shopfast.com. If you need any further assistance, feel free to ask!\n",
            "\n",
            "--------------------------------------------------------------------------------\n",
            "\n",
            ">>>>>>>> USING AUTO REPLY...\n",
            "Customer (to SupportAgent):\n",
            "\n",
            "\n",
            "\n",
            "--------------------------------------------------------------------------------\n",
            "SupportAgent (to Customer):\n",
            "\n",
            "Is there anything else I can assist you with today?\n",
            "\n",
            "--------------------------------------------------------------------------------\n",
            "\n",
            ">>>>>>>> USING AUTO REPLY...\n",
            "Customer (to SupportAgent):\n",
            "\n",
            "\n",
            "\n",
            "--------------------------------------------------------------------------------\n",
            "SupportAgent (to Customer):\n",
            "\n",
            "If you have any questions or need help, please feel free to type your message. I'm here to assist you!\n",
            "\n",
            "--------------------------------------------------------------------------------\n",
            "\n",
            ">>>>>>>> USING AUTO REPLY...\n",
            "Customer (to SupportAgent):\n",
            "\n",
            "\n",
            "\n",
            "--------------------------------------------------------------------------------\n",
            "SupportAgent (to Customer):\n",
            "\n",
            "It seems like your messages are empty. If you need assistance, please type your question or concern, and I'll be happy to help!\n",
            "\n",
            "--------------------------------------------------------------------------------\n",
            "Please give feedback to SupportAgent. Press enter to skip and use auto-reply, or type 'exit' to stop the conversation: exit\n",
            "\n",
            ">>>>>>>> TERMINATING RUN (e9b43e1b-6f7a-467e-a226-124c99e091fd): User requested to end the conversation\n"
          ]
        },
        {
          "output_type": "execute_result",
          "data": {
            "text/plain": [
              "ChatResult(chat_id=None, chat_history=[{'content': 'How can I track my order?', 'role': 'assistant', 'name': 'Customer'}, {'content': 'You can track your order by following these steps:\\n\\n1. Log in to your ShopFast account.\\n2. Go to the \"My Orders\" section.\\n3. Select the order you want to track.\\n4. Click on the \"Track Order\" button to see the latest status and tracking details.\\n\\nIf you need further assistance, please provide your order number, and I\\'ll help you track it.', 'role': 'user', 'name': 'SupportAgent'}, {'content': '', 'role': 'assistant', 'name': 'Customer'}, {'content': \"It looks like your message didn't come through. How can I assist you today?\", 'role': 'user', 'name': 'SupportAgent'}, {'content': '', 'role': 'assistant', 'name': 'Customer'}, {'content': 'I’m here to help! If you have any questions or need assistance, please let me know.', 'role': 'user', 'name': 'SupportAgent'}, {'content': '', 'role': 'assistant', 'name': 'Customer'}, {'content': \"It seems like your messages are coming through blank. If you're experiencing any issues or need help, please try typing your message again or let me know how I can assist you!\", 'role': 'user', 'name': 'SupportAgent'}, {'content': 'give me your website', 'role': 'assistant', 'name': 'Customer'}, {'content': 'You can visit our website at www.shopfast.com. If you need any further assistance, feel free to ask!', 'role': 'user', 'name': 'SupportAgent'}, {'content': '', 'role': 'assistant', 'name': 'Customer'}, {'content': 'Is there anything else I can assist you with today?', 'role': 'user', 'name': 'SupportAgent'}, {'content': '', 'role': 'assistant', 'name': 'Customer'}, {'content': \"If you have any questions or need help, please feel free to type your message. I'm here to assist you!\", 'role': 'user', 'name': 'SupportAgent'}, {'content': '', 'role': 'assistant', 'name': 'Customer'}, {'content': \"It seems like your messages are empty. If you need assistance, please type your question or concern, and I'll be happy to help!\", 'role': 'user', 'name': 'SupportAgent'}], summary=\"It seems like your messages are empty. If you need assistance, please type your question or concern, and I'll be happy to help!\", cost={'usage_including_cached_inference': {'total_cost': 0.0010268, 'gpt-4.1-mini-2025-04-14': {'cost': 0.0010268, 'prompt_tokens': 1631, 'completion_tokens': 234, 'total_tokens': 1865}}, 'usage_excluding_cached_inference': {'total_cost': 0.0010268, 'gpt-4.1-mini-2025-04-14': {'cost': 0.0010268, 'prompt_tokens': 1631, 'completion_tokens': 234, 'total_tokens': 1865}}}, human_input=['give me your website', 'exit'])"
            ]
          },
          "metadata": {},
          "execution_count": 31
        }
      ]
    },
    {
      "cell_type": "markdown",
      "source": [
        "> What happens if you change the `UserProxyAgent`'s `human_input_mode` from `\"ALWAYS\"` to `\"TERMINATE\"`?"
      ],
      "metadata": {
        "id": "qBQjRYHp7aEF"
      }
    }
  ]
}