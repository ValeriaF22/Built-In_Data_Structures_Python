{
 "cells": [
  {
   "cell_type": "markdown",
   "metadata": {
    "id": "a6xlKKrFXGbd"
   },
   "source": [
    "# Built-In Data Structures Python\n",
    "\n",
    "Firstly, what is a data structure? A **data structure** is used to:\n",
    "* organise\n",
    "* process\n",
    "* retrieve\n",
    "* store data.\n",
    "\n",
    "There are **four** built-in data structures in python, namely:\n",
    "1. List\n",
    "2. Dictionary\n",
    "3. Tuple\n",
    "4. Set\n",
    "\n",
    "In this notebook, each of the above data structures is explained in detail with various examples. \n",
    "\n",
    "Hope you enjoy this journey with me! :) \n",
    "\n",
    "By Valeria Filippou."
   ]
  },
  {
   "cell_type": "markdown",
   "metadata": {
    "id": "R2CyyZwtXC2i"
   },
   "source": [
    "## List Properties\n",
    "\n",
    "* **Ordered** collection of elements\n",
    "* Stores same and various types of data\n",
    "* Stores other lists, functions, classes and modules\n",
    "* Access elements using **Index**\n",
    "* Index starts from zero\n",
    "* Can be changed / **Mutable**\n",
    "* Allows **duplicates**\n",
    "* **Dynamically** sized array"
   ]
  },
  {
   "cell_type": "markdown",
   "metadata": {
    "id": "p4_AOobc199R"
   },
   "source": [
    "### Create a list"
   ]
  },
  {
   "cell_type": "code",
   "execution_count": null,
   "metadata": {
    "colab": {
     "base_uri": "https://localhost:8080/"
    },
    "id": "zzCnRB_NXKLL",
    "outputId": "5e3ad215-e195-41e3-ce34-0287b1ae4189"
   },
   "outputs": [
    {
     "name": "stdout",
     "output_type": "stream",
     "text": [
      "This is an empty list:\n",
      " [] \n",
      "\n",
      "This list is created using square brackets:\n",
      " ['Dell', 'HP', 'Apple', 'Lenovo', 'Microsoft'] \n",
      "\n",
      "Another way to create a list is by using a list() constructor:\n",
      " ['Dell', 'HP', 'Apple', 'Lenovo', 'Microsoft']\n"
     ]
    }
   ],
   "source": [
    "# Square brackets\n",
    "empty_list = []\n",
    "print('This is an empty list:\\n', empty_list, '\\n')\n",
    "\n",
    "list_1 = ['Dell', 'HP', 'Apple', 'Lenovo', 'Microsoft']\n",
    "print('This list is created using square brackets:\\n', list_1, '\\n')\n",
    "\n",
    "# list() constructor\n",
    "list_2 = list(('Dell', 'HP', 'Apple', 'Lenovo', 'Microsoft'))\n",
    "print('Another way to create a list is by using a list() constructor:\\n', list_2)"
   ]
  },
  {
   "cell_type": "code",
   "execution_count": null,
   "metadata": {
    "colab": {
     "base_uri": "https://localhost:8080/"
    },
    "id": "YPm2YsIbUxBl",
    "outputId": "13393e51-d711-4463-94a6-cfa5c3b727ab"
   },
   "outputs": [
    {
     "name": "stdout",
     "output_type": "stream",
     "text": [
      "Boolean list:  [False, True, True, False, True] \n",
      "\n",
      "Integer list:  [3, 4, 9, 10, 3, 7] \n",
      "\n",
      "String list:  ['Dell', 'HP', 'Apple', 'Lenovo', 'Microsoft'] \n",
      "\n",
      "Mixed data type list:  [True, 4, 5, 'Apple', 'Lenovo', False]\n"
     ]
    }
   ],
   "source": [
    "# Boolean, integer, string data types\n",
    "list_boolean = [False, True, True, False, True]\n",
    "print('Boolean list: ', list_boolean, '\\n')\n",
    "\n",
    "list_integer = [3, 4, 9, 10, 3, 7]\n",
    "print('Integer list: ', list_integer, '\\n')\n",
    "\n",
    "print('String list: ', list_1, '\\n')\n",
    "\n",
    "list_mixed = [True, 4, 5, 'Apple', 'Lenovo', False]\n",
    "print('Mixed data type list: ', list_mixed,)"
   ]
  },
  {
   "cell_type": "markdown",
   "metadata": {
    "id": "TpF0rTFi2Eg5"
   },
   "source": [
    "### List Functions"
   ]
  },
  {
   "cell_type": "markdown",
   "metadata": {
    "id": "721rvNrO2MNO"
   },
   "source": [
    "#### Length"
   ]
  },
  {
   "cell_type": "code",
   "execution_count": null,
   "metadata": {
    "colab": {
     "base_uri": "https://localhost:8080/"
    },
    "id": "8WTcxvUc3sn9",
    "outputId": "293ca4e2-b18b-483b-b516-3842ad020d5b"
   },
   "outputs": [
    {
     "name": "stdout",
     "output_type": "stream",
     "text": [
      "The length of the list is:  5\n"
     ]
    }
   ],
   "source": [
    "print('The length of the list is: ', len(list_1))"
   ]
  },
  {
   "cell_type": "markdown",
   "metadata": {
    "id": "zti17t4R2SHq"
   },
   "source": [
    "#### Max and Min"
   ]
  },
  {
   "cell_type": "code",
   "execution_count": null,
   "metadata": {
    "colab": {
     "base_uri": "https://localhost:8080/"
    },
    "id": "nQB3f9Yw2U91",
    "outputId": "30cc5686-ac63-4b49-9016-98b6b0ef9180"
   },
   "outputs": [
    {
     "name": "stdout",
     "output_type": "stream",
     "text": [
      "The \"minimum\" element of the list containing strings is:  Apple \n",
      "\n",
      "The \"maximum\" element of the list containing strings is:  Microsoft \n",
      "\n",
      "The \"minimum\" element of the list containing integers is:  3 \n",
      "\n",
      "The \"maximum\" element of the list containing integers is:  10\n"
     ]
    }
   ],
   "source": [
    "# Strings\n",
    "print('The \"minimum\" element of the list containing strings is: ', min(list_1), '\\n')\n",
    "print('The \"maximum\" element of the list containing strings is: ', max(list_1), '\\n')\n",
    "\n",
    "# Integers\n",
    "print('The \"minimum\" element of the list containing integers is: ', min(list_integer), '\\n')\n",
    "print('The \"maximum\" element of the list containing integers is: ', max(list_integer))"
   ]
  },
  {
   "cell_type": "markdown",
   "metadata": {
    "id": "sYJn1KcU3ayz"
   },
   "source": [
    "#### Sorted"
   ]
  },
  {
   "cell_type": "code",
   "execution_count": null,
   "metadata": {
    "colab": {
     "base_uri": "https://localhost:8080/"
    },
    "id": "aurgsIBO3c0_",
    "outputId": "c3713dad-db0d-4528-b9d8-e33490cde85a"
   },
   "outputs": [
    {
     "name": "stdout",
     "output_type": "stream",
     "text": [
      "The printed list is sorted:\n",
      " ['Apple', 'Dell', 'HP', 'Lenovo', 'Microsoft'] \n",
      "\n",
      "The original list is still the same:\n",
      " ['Dell', 'HP', 'Apple', 'Lenovo', 'Microsoft']\n"
     ]
    }
   ],
   "source": [
    "# This function sorts the list printed but the original list is not changed\n",
    "print('The printed list is sorted:\\n', sorted(list_1), '\\n')\n",
    "\n",
    "print('The original list is still the same:\\n', list_1)"
   ]
  },
  {
   "cell_type": "markdown",
   "metadata": {
    "id": "uAyN7mpu3F_h"
   },
   "source": [
    "### List Methods "
   ]
  },
  {
   "cell_type": "markdown",
   "metadata": {
    "id": "zz3lFmCL4GLw"
   },
   "source": [
    "#### Append, Extend and Insert"
   ]
  },
  {
   "cell_type": "code",
   "execution_count": null,
   "metadata": {
    "colab": {
     "base_uri": "https://localhost:8080/"
    },
    "id": "lH-GgvEu4bpb",
    "outputId": "65f2a87c-9fea-4f38-c2d6-095c06c0f8da"
   },
   "outputs": [
    {
     "name": "stdout",
     "output_type": "stream",
     "text": [
      "My initial list is:  ['Dell', 'HP', 'Apple', 'Lenovo', 'Microsoft']\n",
      "------------------------------------------------------------------------------------------------------------------------------------------------------\n",
      "Update list by adding a single value using append:\n",
      " ['Dell', 'HP', 'Apple', 'Lenovo', 'Microsoft', 'Asus'] \n",
      "\n",
      "Update list by adding two values using append:\n",
      " ['Dell', 'HP', 'Apple', 'Lenovo', 'Microsoft', 'Asus', ['Acer', 'Fujitsu']] \n",
      "\n",
      "Update list by adding two values using extend:\n",
      " ['Dell', 'HP', 'Apple', 'Lenovo', 'Microsoft', 'Asus', ['Acer', 'Fujitsu'], 'LG', 'Samsung'] \n",
      "\n",
      "Update list by adding a single value using insert:\n",
      " ['Dell', 'VAIO', 'HP', 'Apple', 'Lenovo', 'Microsoft', 'Asus', ['Acer', 'Fujitsu'], 'LG', 'Samsung']\n"
     ]
    }
   ],
   "source": [
    "# Adding elements to a list using append, extend, insert\n",
    "list_1 = ['Dell', 'HP', 'Apple', 'Lenovo', 'Microsoft']\n",
    "print('My initial list is: ', list_1)\n",
    "print('---' * 50)\n",
    "\n",
    "# Append\n",
    "list_1.append('Asus') # add a single element as a signle value\n",
    "print('Update list by adding a single value using append:\\n', list_1, '\\n')\n",
    "\n",
    "list_1.append(['Acer', 'Fujitsu']) # add two elements as a single value\n",
    "print('Update list by adding two values using append:\\n', list_1, '\\n')\n",
    "\n",
    "# Extend\n",
    "list_1.extend(['LG', 'Samsung']) # add two elements as two values\n",
    "print('Update list by adding two values using extend:\\n', list_1, '\\n')\n",
    "\n",
    "# Insert\n",
    "list_1.insert(1, 'VAIO') # add a single element at i position \n",
    "print('Update list by adding a single value using insert:\\n', list_1)"
   ]
  },
  {
   "cell_type": "markdown",
   "metadata": {
    "id": "1YkcvF944oya"
   },
   "source": [
    "#### Remove, Pop, Clear and Del"
   ]
  },
  {
   "cell_type": "code",
   "execution_count": null,
   "metadata": {
    "colab": {
     "base_uri": "https://localhost:8080/"
    },
    "id": "y2B3XpEF4bmJ",
    "outputId": "96141fa4-fc84-4818-983f-400862076fc8"
   },
   "outputs": [
    {
     "name": "stdout",
     "output_type": "stream",
     "text": [
      "My initial list is:  ['Dell', 'VAIO', 'HP', 'Apple', 'Lenovo', 'Microsoft', 'Asus', ['Acer', 'Fujitsu'], 'LG', 'Samsung']\n",
      "------------------------------------------------------------------------------------------------------------------------------------------------------\n",
      "6th element - Microsoft - has been removed from the list: \n",
      " ['Dell', 'VAIO', 'HP', 'Apple', 'Lenovo', 'Asus', ['Acer', 'Fujitsu'], 'LG', 'Samsung'] \n",
      "\n",
      "The element LG has been removed from the list:\n",
      " ['Dell', 'VAIO', 'HP', 'Apple', 'Lenovo', 'Asus', ['Acer', 'Fujitsu'], 'Samsung'] \n",
      "\n",
      "The new 6th element - Asus - has been popped from the list:\n",
      " ['Dell', 'VAIO', 'HP', 'Apple', 'Lenovo', ['Acer', 'Fujitsu'], 'Samsung'] \n",
      "\n",
      "new 6th element - [Acer, Fujitsu] - has been popped from the list:\n",
      " ['Dell', 'VAIO', 'HP', 'Apple', 'Lenovo', 'Samsung'] \n",
      "\n",
      "The list has been cleared:\n",
      " []\n"
     ]
    }
   ],
   "source": [
    "# Removing elements from a list using del, remove, pop and clear\n",
    "list_1 = ['Dell', 'VAIO', 'HP', 'Apple', 'Lenovo', 'Microsoft', 'Asus', ['Acer', 'Fujitsu'], 'LG', 'Samsung']\n",
    "print('My initial list is: ', list_1)\n",
    "print('---' * 50)\n",
    "\n",
    "# Delete \n",
    "del list_1[5] # delete index 5 (6th element)\n",
    "print('6th element - Microsoft - has been removed from the list: \\n', list_1, '\\n')\n",
    "\n",
    "# Remove \n",
    "list_1.remove('LG') # delete LG element\n",
    "print('The element LG has been removed from the list:\\n', list_1, '\\n')\n",
    "\n",
    "# Pop\n",
    "list_1.pop(5) # delete element with index 5 \n",
    "print('The new 6th element - Asus - has been popped from the list:\\n', list_1, '\\n')\n",
    "\n",
    "list_1.pop(5) # delete element with index 5 \n",
    "print('new 6th element - [Acer, Fujitsu] - has been popped from the list:\\n', list_1, '\\n')\n",
    "\n",
    "# Clear\n",
    "list_1.clear() # similar to del list_1[:]\n",
    "print('The list has been cleared:\\n', list_1)"
   ]
  },
  {
   "cell_type": "markdown",
   "metadata": {
    "id": "ExR3DgRp4zhB"
   },
   "source": [
    "#### Index"
   ]
  },
  {
   "cell_type": "code",
   "execution_count": null,
   "metadata": {
    "colab": {
     "base_uri": "https://localhost:8080/"
    },
    "id": "K-ghIt_P4bi4",
    "outputId": "0f004ed6-6373-46ad-bb36-f06d2e2260b1"
   },
   "outputs": [
    {
     "name": "stdout",
     "output_type": "stream",
     "text": [
      "My initial list now is:  ['Dell', 'HP', 'Apple', 'Lenovo', 'Microsoft']\n",
      "------------------------------------------------------------------------------------------------------------------------------------------------------\n",
      "The index of the Apple element is:  2\n"
     ]
    }
   ],
   "source": [
    "# Index\n",
    "list_1 = ['Dell', 'HP', 'Apple', 'Lenovo', 'Microsoft']\n",
    "print('My initial list now is: ', list_1)\n",
    "print('---' * 50)\n",
    "\n",
    "apple_idx = list_1.index('Apple')\n",
    "print('The index of the Apple element is: ', apple_idx)"
   ]
  },
  {
   "cell_type": "markdown",
   "metadata": {
    "id": "ZvBGsHtf406J"
   },
   "source": [
    "#### Count"
   ]
  },
  {
   "cell_type": "code",
   "execution_count": null,
   "metadata": {
    "colab": {
     "base_uri": "https://localhost:8080/"
    },
    "id": "DLGSqjrC4bfT",
    "outputId": "c34ac08d-f048-42e7-d7e4-d7786ef952c9"
   },
   "outputs": [
    {
     "name": "stdout",
     "output_type": "stream",
     "text": [
      "My initial list now is:  ['Dell', 'HP', 'Apple', 'Lenovo', 'Microsoft', 'Apple', 'HP', 'Apple', 'Lenovo']\n",
      "------------------------------------------------------------------------------------------------------------------------------------------------------\n",
      "The Apple element appears 3 times in the list\n"
     ]
    }
   ],
   "source": [
    "# Count\n",
    "list_1 = ['Dell', 'HP', 'Apple', 'Lenovo', 'Microsoft', 'Apple', 'HP', 'Apple', 'Lenovo']\n",
    "print('My initial list now is: ', list_1)\n",
    "print('---' * 50)\n",
    "\n",
    "apple_count = list_1.count('Apple')\n",
    "print('The Apple element appears', apple_count, 'times in the list')"
   ]
  },
  {
   "cell_type": "markdown",
   "metadata": {
    "id": "e6MRjLFT42kk"
   },
   "source": [
    "#### Sort"
   ]
  },
  {
   "cell_type": "code",
   "execution_count": null,
   "metadata": {
    "colab": {
     "base_uri": "https://localhost:8080/"
    },
    "id": "2HC38d2k4bbE",
    "outputId": "30b4393a-7b81-464e-f66d-79dda4fb9bcc"
   },
   "outputs": [
    {
     "name": "stdout",
     "output_type": "stream",
     "text": [
      "My initial list now is:  ['Dell', 'HP', 'Apple', 'Lenovo', 'Microsoft']\n",
      "------------------------------------------------------------------------------------------------------------------------------------------------------\n",
      "The original list is sorted:\n",
      " ['Apple', 'Dell', 'HP', 'Lenovo', 'Microsoft']\n"
     ]
    }
   ],
   "source": [
    "# Sort\n",
    "list_1 = ['Dell', 'HP', 'Apple', 'Lenovo', 'Microsoft']\n",
    "print('My initial list now is: ', list_1)\n",
    "print('---' * 50)\n",
    "\n",
    "# Sort\n",
    "list_1.sort(reverse=False)\n",
    "print('The original list is sorted:\\n', list_1)"
   ]
  },
  {
   "cell_type": "markdown",
   "metadata": {
    "id": "CqfqHdTA44QK"
   },
   "source": [
    "#### Reverse"
   ]
  },
  {
   "cell_type": "code",
   "execution_count": null,
   "metadata": {
    "colab": {
     "base_uri": "https://localhost:8080/"
    },
    "id": "i5IdK4Sd4bTB",
    "outputId": "3ab59d80-a5f7-491d-cb24-9d4fe558ef8c"
   },
   "outputs": [
    {
     "name": "stdout",
     "output_type": "stream",
     "text": [
      "My initial list now is:  ['Dell', 'HP', 'Apple', 'Lenovo', 'Microsoft']\n",
      "------------------------------------------------------------------------------------------------------------------------------------------------------\n",
      "The order of the list has been reversed:\n",
      " ['Microsoft', 'Lenovo', 'Apple', 'HP', 'Dell']\n"
     ]
    }
   ],
   "source": [
    "# Reverse\n",
    "list_1 = ['Dell', 'HP', 'Apple', 'Lenovo', 'Microsoft']\n",
    "print('My initial list now is: ', list_1)\n",
    "print('---' * 50)\n",
    "\n",
    "list_1.reverse()\n",
    "print('The order of the list has been reversed:\\n', list_1)"
   ]
  },
  {
   "cell_type": "markdown",
   "metadata": {
    "id": "GDu48B0146KC"
   },
   "source": [
    "#### Copy"
   ]
  },
  {
   "cell_type": "code",
   "execution_count": null,
   "metadata": {
    "colab": {
     "base_uri": "https://localhost:8080/"
    },
    "id": "hyK7JRod4bI2",
    "outputId": "e1649551-ba44-451a-9a53-a505295445ae"
   },
   "outputs": [
    {
     "name": "stdout",
     "output_type": "stream",
     "text": [
      "My initial list now is:  ['Dell', 'HP', 'Apple', 'Lenovo', 'Microsoft']\n",
      "------------------------------------------------------------------------------------------------------------------------------------------------------\n",
      "The list has been copied:\n",
      " ['Dell', 'HP', 'Apple', 'Lenovo', 'Microsoft']\n"
     ]
    }
   ],
   "source": [
    "# Copy\n",
    "list_1 = ['Dell', 'HP', 'Apple', 'Lenovo', 'Microsoft']\n",
    "print('My initial list now is: ', list_1)\n",
    "print('---' * 50)\n",
    "\n",
    "list_1_copy = list_1.copy()\n",
    "print('The list has been copied:\\n', list_1_copy)"
   ]
  },
  {
   "cell_type": "markdown",
   "metadata": {
    "id": "goAApyS-WXJF"
   },
   "source": [
    "#### Access elements of list by slicing"
   ]
  },
  {
   "cell_type": "code",
   "execution_count": null,
   "metadata": {
    "colab": {
     "base_uri": "https://localhost:8080/"
    },
    "id": "gAfYYxZbJSFf",
    "outputId": "b7b7e0d1-3e56-4644-dd9e-33da9f407840"
   },
   "outputs": [
    {
     "name": "stdout",
     "output_type": "stream",
     "text": [
      "My initial list now is:  ['Dell', 'HP', 'Apple', 'Lenovo', 'Microsoft']\n",
      "------------------------------------------------------------------------------------------------------------------------------------------------------\n",
      "Printing all elements:\n",
      " ['Dell', 'HP', 'Apple', 'Lenovo', 'Microsoft'] \n",
      "\n",
      "Printing element with index 2:  Apple \n",
      "\n",
      "Printing elements from index 1 up to 3, excluding index 4:\n",
      " ['HP', 'Apple', 'Lenovo'] \n",
      "\n",
      "Printing the last element:  Microsoft \n",
      "\n",
      "Printing all elements in reverse:\n",
      " ['Microsoft', 'Lenovo', 'Apple', 'HP', 'Dell']\n"
     ]
    }
   ],
   "source": [
    "# Slicing a list\n",
    "list_1 = ['Dell', 'HP', 'Apple', 'Lenovo', 'Microsoft']\n",
    "print('My initial list now is: ', list_1)\n",
    "print('---' * 50)\n",
    "\n",
    "# Access all elements\n",
    "print('Printing all elements:\\n', list_1, '\\n')\n",
    "\n",
    "# Access element with index 2\n",
    "print('Printing element with index 2: ', list_1[2], '\\n')\n",
    "\n",
    "# Access elements from 1 to 3 and exclude 4 \n",
    "print('Printing elements from index 1 up to 3, excluding index 4:\\n', list_1[1:4], '\\n')\n",
    "\n",
    "# Access last element\n",
    "print('Printing the last element: ', list_1[-1], '\\n')\n",
    "\n",
    "# Access all elements in reverse\n",
    "print('Printing all elements in reverse:\\n', list_1[::-1])"
   ]
  },
  {
   "cell_type": "markdown",
   "metadata": {
    "id": "-3DWER32WiuZ"
   },
   "source": [
    "#### Replace element in a list"
   ]
  },
  {
   "cell_type": "code",
   "execution_count": null,
   "metadata": {
    "colab": {
     "base_uri": "https://localhost:8080/"
    },
    "id": "VlSuNt1uWfUK",
    "outputId": "7954037a-4e05-46a5-e487-5c5a8725bcbb"
   },
   "outputs": [
    {
     "name": "stdout",
     "output_type": "stream",
     "text": [
      "My initial list is:  ['Dell', 'HP', 'Apple', 'Lenovo', 'Microsoft']\n",
      "------------------------------------------------------------------------------------------------------------------------------------------------------\n",
      "Replace element with index 0:\n",
      " ['Google', 'HP', 'Apple', 'Lenovo', 'Microsoft']\n"
     ]
    }
   ],
   "source": [
    "# Replacing an element in a list\n",
    "list_1 = ['Dell', 'HP', 'Apple', 'Lenovo', 'Microsoft']\n",
    "print('My initial list is: ', list_1)\n",
    "print('---' * 50)\n",
    "\n",
    "list_1[0] = 'Google'\n",
    "print('Replace element with index 0:\\n', list_1)"
   ]
  },
  {
   "cell_type": "markdown",
   "metadata": {
    "id": "9I86wPatWzKg"
   },
   "source": [
    "#### List comprehensions"
   ]
  },
  {
   "cell_type": "code",
   "execution_count": null,
   "metadata": {
    "colab": {
     "base_uri": "https://localhost:8080/"
    },
    "id": "98SIAtlhOs3U",
    "outputId": "3e8dd180-0d17-4712-d060-656c956e1d78"
   },
   "outputs": [
    {
     "name": "stdout",
     "output_type": "stream",
     "text": [
      "A list of cubes is created using a for loop:\n",
      " [0, 1, 8, 27, 64] \n",
      "\n",
      "Another list of cubes is created using a list comprehension:\n",
      " [0, 1, 8, 27, 64]\n"
     ]
    }
   ],
   "source": [
    "# List comprehension is a concise way to create a list and an alternative of a for loop\n",
    "\n",
    "# Create a list using for loop\n",
    "cubes_1 = [] # empty list\n",
    "for cube in range(5):\n",
    "  cubes_1.append(cube**3)\n",
    "\n",
    "print('A list of cubes is created using a for loop:\\n', cubes_1, '\\n')\n",
    "\n",
    "# Create a list using list comprehension\n",
    "cubes_2 = [cube**3 for cube in range(5)]\n",
    "print('Another list of cubes is created using a list comprehension:\\n', cubes_2)"
   ]
  },
  {
   "cell_type": "markdown",
   "metadata": {
    "id": "J1f_HRY4W9yP"
   },
   "source": [
    "#### Type"
   ]
  },
  {
   "cell_type": "code",
   "execution_count": null,
   "metadata": {
    "colab": {
     "base_uri": "https://localhost:8080/"
    },
    "id": "LN96Y3DRSrfc",
    "outputId": "de7bbacc-82d3-4c82-9c60-33ee425b0fec"
   },
   "outputs": [
    {
     "name": "stdout",
     "output_type": "stream",
     "text": [
      "<class 'list'>\n"
     ]
    }
   ],
   "source": [
    "# In python a list is defined as an object with data type 'list'\n",
    "print(type(list_1))"
   ]
  },
  {
   "cell_type": "markdown",
   "metadata": {
    "id": "xukI06LkxHs3"
   },
   "source": [
    "### List Summary\n",
    "\n",
    "```markdown\n",
    "Function    | Description \n",
    "------------|--------------------------------------------------------------\n",
    "len()       | Length of a list \n",
    "max()       | Maximum element of a list\n",
    "min()       | Minimum element of a list\n",
    "sorted()    | Sorted list without changing the order of the original list\n",
    "------------|--------------------------------------------------------------\n",
    "Method      | Description \n",
    "------------|--------------------------------------------------------------\n",
    "append()    | Element is added at then end of the list\n",
    "extend()    | Elements are added at the end of the current list\n",
    "insert()    | Element is added at the specified index\n",
    "remove()    | First element with the specified value is removed\n",
    "pop()       | Element is removed at the specified index\n",
    "clear()     | All elements are removed from the list\n",
    "index()     | Index of first element with the specified value is returned\n",
    "count()     | Number of elements with the specified value is returned\n",
    "sort()      | List is sorted\n",
    "reverse()   | List is reversed\n",
    "copy()      | List is copied\n",
    "```\n"
   ]
  },
  {
   "cell_type": "markdown",
   "metadata": {
    "id": "si-M-cvQXGLh"
   },
   "source": [
    "## Dictionary Properties\n",
    "\n",
    "* **Unordered** collection\n",
    "* **Key / Value** mapping\n",
    "* Keys are **unique** \n",
    "* Keys are **immutable**\n",
    "* Values can be of any type"
   ]
  },
  {
   "cell_type": "markdown",
   "metadata": {
    "id": "93-caglCYIuI"
   },
   "source": [
    "### Create a dictionary"
   ]
  },
  {
   "cell_type": "code",
   "execution_count": null,
   "metadata": {
    "colab": {
     "base_uri": "https://localhost:8080/"
    },
    "id": "FNuMUZ6yXIMd",
    "outputId": "cceae59b-dc74-4fae-b32a-0e652ce8e533"
   },
   "outputs": [
    {
     "name": "stdout",
     "output_type": "stream",
     "text": [
      "This is an empty dictionary:\n",
      " {} \n",
      "\n",
      "This dictionary is created using curly brackets and has string keys:\n",
      " {'John': 5463, 'Mary': 9473, 'Chris': 2352, 'Lewis': 2316} \n",
      "\n",
      "This dictionary is created using curly brackets and has mixed keys:\n",
      " {'Name': 'John', 1: [10, 15, 20]} \n",
      "\n",
      "Another way to create a dictionary is by using a dict() constructor and has string keys:\n",
      " {'John': 5463, 'Mary': 9473, 'Chris': 2352, 'Lewis': 2316} \n",
      "\n",
      "Another way to create a dictionary using a dict() constructor:\n",
      " {'John': 5463, 'Mary': 9473, 'Chris': 2352, 'Lewis': 2316}\n"
     ]
    }
   ],
   "source": [
    "# Curly brackets\n",
    "empty_dictionary = {}\n",
    "print('This is an empty dictionary:\\n', empty_dictionary, '\\n')\n",
    "\n",
    "dictionary_1 = {'John': 5463, 'Mary': 9473, 'Chris': 2352, 'Lewis': 2316}\n",
    "print('This dictionary is created using curly brackets and has string keys:\\n', dictionary_1, '\\n')\n",
    "\n",
    "dictionary_2 = {'Name': 'John', 1: [10, 15, 20]}\n",
    "print('This dictionary is created using curly brackets and has mixed keys:\\n', dictionary_2, '\\n')\n",
    "\n",
    "# dict() constructor\n",
    "dictionary_3 = dict([('John', 5463), ('Mary', 9473), ('Chris', 2352), ('Lewis', 2316)]) # each itam is in a pair\n",
    "print('Another way to create a dictionary is by using a dict() constructor and has string keys:\\n', dictionary_3, '\\n')\n",
    "\n",
    "# dict() constructor\n",
    "dictionary_4 = dict({'John': 5463, 'Mary': 9473, 'Chris': 2352, 'Lewis': 2316})\n",
    "print('Another way to create a dictionary using a dict() constructor:\\n', dictionary_4)"
   ]
  },
  {
   "cell_type": "markdown",
   "metadata": {
    "id": "mkd3mQR5YMcv"
   },
   "source": [
    "### Dictionary Functions"
   ]
  },
  {
   "cell_type": "markdown",
   "metadata": {
    "id": "APAM_GCrYPVz"
   },
   "source": [
    "#### Length"
   ]
  },
  {
   "cell_type": "code",
   "execution_count": null,
   "metadata": {
    "colab": {
     "base_uri": "https://localhost:8080/"
    },
    "id": "7xeBxA4kNb6p",
    "outputId": "986701de-dc61-4d9a-c79b-f929ce55df18"
   },
   "outputs": [
    {
     "name": "stdout",
     "output_type": "stream",
     "text": [
      "The length of the dictionary is:  4\n"
     ]
    }
   ],
   "source": [
    "print('The length of the dictionary is: ', len(dictionary_1))"
   ]
  },
  {
   "cell_type": "markdown",
   "metadata": {
    "id": "FYHps3LQayXO"
   },
   "source": [
    "#### Max and Min"
   ]
  },
  {
   "cell_type": "code",
   "execution_count": null,
   "metadata": {
    "colab": {
     "base_uri": "https://localhost:8080/"
    },
    "id": "7ma7_T6La0-9",
    "outputId": "47a181fd-1d8d-4793-9c60-739e1e076616"
   },
   "outputs": [
    {
     "name": "stdout",
     "output_type": "stream",
     "text": [
      "The \"minimum\" key of the dictionary is:  Chris \n",
      "\n",
      "The \"maximum\" key of the dictionary is:  Mary\n"
     ]
    }
   ],
   "source": [
    "print('The \"minimum\" key of the dictionary is: ', min(dictionary_1), '\\n')\n",
    "print('The \"maximum\" key of the dictionary is: ', max(dictionary_1))"
   ]
  },
  {
   "cell_type": "markdown",
   "metadata": {
    "id": "23jfNiZja1Xe"
   },
   "source": [
    "#### Sorted"
   ]
  },
  {
   "cell_type": "code",
   "execution_count": null,
   "metadata": {
    "colab": {
     "base_uri": "https://localhost:8080/"
    },
    "id": "KwnClP7oa3ST",
    "outputId": "af87746e-4061-4fcd-8561-a6edc5a6d95b"
   },
   "outputs": [
    {
     "name": "stdout",
     "output_type": "stream",
     "text": [
      "The printed dictionary keys are sorted:\n",
      " ['Chris', 'John', 'Lewis', 'Mary'] \n",
      "\n"
     ]
    }
   ],
   "source": [
    "# Sorted keys\n",
    "print('The printed dictionary keys are sorted:\\n', sorted(dictionary_1), '\\n')"
   ]
  },
  {
   "cell_type": "markdown",
   "metadata": {
    "id": "NOJkrtNqYg5b"
   },
   "source": [
    "### Dictionary Methods"
   ]
  },
  {
   "cell_type": "markdown",
   "metadata": {
    "id": "e1pCNteIYkOg"
   },
   "source": [
    "#### Update"
   ]
  },
  {
   "cell_type": "code",
   "execution_count": null,
   "metadata": {
    "colab": {
     "base_uri": "https://localhost:8080/"
    },
    "id": "YDEYJWygRJpT",
    "outputId": "a95a54bd-7f73-4897-ffc8-b9bcfca2e74d"
   },
   "outputs": [
    {
     "name": "stdout",
     "output_type": "stream",
     "text": [
      "My initial dictionary is:  {'John': 5463, 'Mary': 9473, 'Chris': 2352, 'Lewis': 2316}\n",
      "------------------------------------------------------------------------------------------------------------------------------------------------------\n",
      "Another way to update dictionary by providing key/value pair:\n",
      " {'John': 5463, 'Mary': 9473, 'Chris': 4741, 'Lewis': 2316} \n",
      "\n",
      "This dictionary was updated by adding another key/value pair:\n",
      " {'John': 5463, 'Mary': 9473, 'Chris': 4741, 'Lewis': 2316, 'Isaac': 8947}\n"
     ]
    }
   ],
   "source": [
    "# Updating elements to a dictionary\n",
    "dictionary_1 = {'John': 5463, 'Mary': 9473, 'Chris': 2352, 'Lewis': 2316}\n",
    "print('My initial dictionary is: ', dictionary_1)\n",
    "print('---' * 50)\n",
    "\n",
    "# Update\n",
    "dictionary_1.update({'Chris': 4741})\n",
    "print('Another way to update dictionary by providing key/value pair:\\n', dictionary_1, '\\n')\n",
    "\n",
    "dictionary_1.update({'Isaac': 8947})\n",
    "print('This dictionary was updated by adding another key/value pair:\\n', dictionary_1)\n"
   ]
  },
  {
   "cell_type": "markdown",
   "metadata": {
    "id": "AgDuGLAnYyUW"
   },
   "source": [
    "#### Pop, Popitem, Clear and Del"
   ]
  },
  {
   "cell_type": "code",
   "execution_count": null,
   "metadata": {
    "colab": {
     "base_uri": "https://localhost:8080/"
    },
    "id": "o0k99bw4RmKC",
    "outputId": "9bb47d27-5d1b-46d8-c8bf-3ba27a7ca4f7"
   },
   "outputs": [
    {
     "name": "stdout",
     "output_type": "stream",
     "text": [
      "My initial dictionary is:  {'John': 5463, 'Mary': 9473, 'Chris': 2352, 'Lewis': 2316}\n",
      "------------------------------------------------------------------------------------------------------------------------------------------------------\n",
      "The new dictionary is:\n",
      " {'John': 5463, 'Mary': 9473, 'Chris': 2352} \n",
      "\n",
      "The new dictionary is:\n",
      " {'John': 5463, 'Mary': 9473} \n",
      "\n",
      "The dictionary now is empty:\n",
      " {} \n",
      "\n",
      "The dictionary has been deleted.\n"
     ]
    }
   ],
   "source": [
    "# Removing elements from a dictionary\n",
    "dictionary_1 = {'John': 5463, 'Mary': 9473, 'Chris': 2352, 'Lewis': 2316}\n",
    "print('My initial dictionary is: ', dictionary_1)\n",
    "print('---' * 50)\n",
    "\n",
    "# Pop \n",
    "dictionary_1.pop('Lewis') # delete value with key Lewis, and returns the value popped\n",
    "print('The new dictionary is:\\n', dictionary_1, '\\n')\n",
    "\n",
    "# Popitem\n",
    "# remove an arbitrary item, return (key,value)\n",
    "dictionary_1.popitem() # delete last item, and returns key/value pair\n",
    "print('The new dictionary is:\\n', dictionary_1, '\\n')\n",
    "\n",
    "# Clear\n",
    "dictionary_1.clear() # remove all items\n",
    "print('The dictionary now is empty:\\n', dictionary_1, '\\n')\n",
    "\n",
    "# Del\n",
    "del dictionary_1 # delete the dictionary itself\n",
    "print('The dictionary has been deleted.')"
   ]
  },
  {
   "cell_type": "markdown",
   "metadata": {
    "id": "4jA7Z3yPZKpl"
   },
   "source": [
    "#### Items, Keys, Values, Get and Fromkeys"
   ]
  },
  {
   "cell_type": "code",
   "execution_count": null,
   "metadata": {
    "colab": {
     "base_uri": "https://localhost:8080/"
    },
    "id": "HyHGw5kUVLvj",
    "outputId": "b524499e-8478-4309-ac33-0fc90abcaa4f"
   },
   "outputs": [
    {
     "name": "stdout",
     "output_type": "stream",
     "text": [
      "My initial dictionary is:  {'John': 5463, 'Mary': 9473, 'Chris': 2352, 'Lewis': 2316}\n",
      "------------------------------------------------------------------------------------------------------------------------------------------------------\n",
      "The items of the dictionary are:\n",
      " dict_items([('John', 5463), ('Mary', 9473), ('Chris', 2352), ('Lewis', 2316)]) \n",
      "\n",
      "The keys of the dictionary are:\n",
      " dict_keys(['John', 'Mary', 'Chris', 'Lewis']) \n",
      "\n",
      "The values of the dictionary are:\n",
      " dict_values([5463, 9473, 2352, 2316]) \n",
      "\n",
      "The value of the key Mary of the dictionary is:\n",
      " 9473 \n",
      "\n",
      "The dictionary created using fromkeys() is:\n",
      " {'John': 0, 'Mary': 0, 'Chris': 0, 'Lewis': 0} \n",
      "\n"
     ]
    }
   ],
   "source": [
    "# Accessing elements of a dictionary\n",
    "\n",
    "dictionary_1 = {'John': 5463, 'Mary': 9473, 'Chris': 2352, 'Lewis': 2316}\n",
    "print('My initial dictionary is: ', dictionary_1)\n",
    "print('---' * 50)\n",
    "\n",
    "# Items\n",
    "dict_items = dictionary_1.items()\n",
    "print('The items of the dictionary are:\\n', dict_items, '\\n')\n",
    "\n",
    "# Keys\n",
    "dict_keys = dictionary_1.keys()\n",
    "print('The keys of the dictionary are:\\n', dict_keys, '\\n')\n",
    "\n",
    "# Values\n",
    "dict_values = dictionary_1.values()\n",
    "print('The values of the dictionary are:\\n', dict_values, '\\n')\n",
    "\n",
    "# Get\n",
    "mary_get = dictionary_1.get('Mary') \n",
    "print('The value of the key Mary of the dictionary is:\\n', mary_get, '\\n')  \n",
    "\n",
    "# Fromkeys\n",
    "keys_ = ('John', 'Mary', 'Chris', 'Lewis') # several keys\n",
    "value_ = 0 # single value\n",
    "dict_fromkeys = dictionary_1.fromkeys(keys_, value_)\n",
    "print('The dictionary created using fromkeys() is:\\n', dict_fromkeys, '\\n')"
   ]
  },
  {
   "cell_type": "markdown",
   "metadata": {
    "id": "mi-Mx2vVZYi2"
   },
   "source": [
    "#### Copy"
   ]
  },
  {
   "cell_type": "code",
   "execution_count": null,
   "metadata": {
    "colab": {
     "base_uri": "https://localhost:8080/"
    },
    "id": "mAW20BiziZ5p",
    "outputId": "83e942b8-05d6-4ce9-c844-ca49544e0262"
   },
   "outputs": [
    {
     "name": "stdout",
     "output_type": "stream",
     "text": [
      "My initial dictionary is:  {'John': 5463, 'Mary': 9473, 'Chris': 2352, 'Lewis': 2316}\n",
      "------------------------------------------------------------------------------------------------------------------------------------------------------\n",
      "The dictionary has been copied:\n",
      " {'John': 5463, 'Mary': 9473, 'Chris': 2352, 'Lewis': 2316}\n"
     ]
    }
   ],
   "source": [
    "# Copy\n",
    "dictionary_1 = {'John': 5463, 'Mary': 9473, 'Chris': 2352, 'Lewis': 2316}\n",
    "print('My initial dictionary is: ', dictionary_1)\n",
    "print('---' * 50)\n",
    "\n",
    "dictionary_1_copy = dictionary_1.copy()\n",
    "print('The dictionary has been copied:\\n', dictionary_1_copy)"
   ]
  },
  {
   "cell_type": "markdown",
   "metadata": {
    "id": "ThqUzS0FZwrh"
   },
   "source": [
    "### Manual operations"
   ]
  },
  {
   "cell_type": "code",
   "execution_count": null,
   "metadata": {
    "colab": {
     "base_uri": "https://localhost:8080/"
    },
    "id": "93HiHeHTZpYo",
    "outputId": "8d147b10-38f2-4765-ef63-afe120d3842a"
   },
   "outputs": [
    {
     "name": "stdout",
     "output_type": "stream",
     "text": [
      "My initial dictionary is:  {'John': 5463, 'Mary': 9473, 'Chris': 2352, 'Lewis': 2316}\n",
      "------------------------------------------------------------------------------------------------------------------------------------------------------\n",
      "Adding a key/value pair:\n",
      " {'John': 5463, 'Mary': 9473, 'Chris': 2352, 'Lewis': 2316, 'Miles': 9872} \n",
      "\n",
      "Updating value of the specified key:\n",
      " {'John': 5463, 'Mary': 9473, 'Chris': 6547, 'Lewis': 2316, 'Miles': 9872} \n",
      "\n",
      "The value of the specified key is:\n",
      " 9473\n"
     ]
    }
   ],
   "source": [
    "dictionary_1 = {'John': 5463, 'Mary': 9473, 'Chris': 2352, 'Lewis': 2316}\n",
    "print('My initial dictionary is: ', dictionary_1)\n",
    "print('---' * 50)\n",
    "\n",
    "# Add item\n",
    "dictionary_1['Miles'] = 9872\n",
    "print('Adding a key/value pair:\\n', dictionary_1, '\\n')\n",
    "\n",
    "# Update item\n",
    "dictionary_1['Chris'] = 6547\n",
    "print('Updating value of the specified key:\\n', dictionary_1, '\\n')\n",
    "\n",
    "# Access value using key\n",
    "mary_ = dictionary_1['Mary']\n",
    "print('The value of the specified key is:\\n', mary_) "
   ]
  },
  {
   "cell_type": "markdown",
   "metadata": {
    "id": "W-a1fu7PZa98"
   },
   "source": [
    "### Dictionary comprehensions"
   ]
  },
  {
   "cell_type": "code",
   "execution_count": null,
   "metadata": {
    "colab": {
     "base_uri": "https://localhost:8080/"
    },
    "id": "LgiidaZVXFlV",
    "outputId": "b1fc51d2-1bb7-46ee-e9cf-7c25f86566f0"
   },
   "outputs": [
    {
     "name": "stdout",
     "output_type": "stream",
     "text": [
      "A dictionary of cubes is created using a dict comprehension:\n",
      " {0: 0, 1: 1, 2: 8, 3: 27, 4: 64}\n"
     ]
    }
   ],
   "source": [
    "cubes_1 = {cube: cube**3 for cube in range(5)}\n",
    "print('A dictionary of cubes is created using a dict comprehension:\\n', cubes_1)"
   ]
  },
  {
   "cell_type": "markdown",
   "metadata": {
    "id": "m-gzSRx9Ze3L"
   },
   "source": [
    "### Type"
   ]
  },
  {
   "cell_type": "code",
   "execution_count": null,
   "metadata": {
    "colab": {
     "base_uri": "https://localhost:8080/"
    },
    "id": "j3psZzUhYjia",
    "outputId": "b7936b9b-069c-4358-d622-7ac45767d51c"
   },
   "outputs": [
    {
     "name": "stdout",
     "output_type": "stream",
     "text": [
      "<class 'dict'>\n"
     ]
    }
   ],
   "source": [
    "# In python a dictionary is defined as an object with data type 'dict'\n",
    "print(type(dictionary_1))"
   ]
  },
  {
   "cell_type": "markdown",
   "metadata": {
    "id": "O1R8PXnittSL"
   },
   "source": [
    "### Dictionary Summary\n",
    "\n",
    "```markdown\n",
    "Function    | Description \n",
    "------------|--------------------------------------------------------------\n",
    "len()       | Length of a dictionary \n",
    "max()       | Maximum key of a dictionary\n",
    "min()       | Minimum key of a dictionary\n",
    "sorted()    | Sorted keys of a dictionary\n",
    "------------|--------------------------------------------------------------\n",
    "Method      | Description \n",
    "------------|--------------------------------------------------------------\n",
    "update()    | Dictionary is updated with specified key/value pairs\n",
    "pop()       | Element is removed with the specified key\n",
    "popitem()   | Last key/value pair is removed\n",
    "clear()     | All elements are removed from the dictionary\n",
    "items()     | List containing a tuple for each key/value pair is returned\n",
    "keys()      | List containing the keys of the dictionary is returned\n",
    "values()    | List containing all the values of the dictionary is returned\n",
    "get()       | Value of the specified key is returned\n",
    "fromkeys()  | List created with different specified keys and same value in all keys\n",
    "copy()      | Dictionary is copied\n",
    "```\n"
   ]
  },
  {
   "cell_type": "markdown",
   "metadata": {
    "id": "zrnefw6oXIou"
   },
   "source": [
    "## Tuple Properties\n",
    "\n",
    "* **Ordered** collection of elements\n",
    "* Stores same and various types of data\n",
    "* Access elements using **Index**\n",
    "* Index starts from zero\n",
    "* Cannot be changed / **Immutable**\n",
    "* Allows **duplicates**"
   ]
  },
  {
   "cell_type": "markdown",
   "metadata": {
    "id": "2dvrq1FVb19W"
   },
   "source": [
    "### Create a tuple"
   ]
  },
  {
   "cell_type": "code",
   "execution_count": null,
   "metadata": {
    "colab": {
     "base_uri": "https://localhost:8080/"
    },
    "id": "VqqlMsEKcETY",
    "outputId": "4fe94b95-22a1-4cb0-d2b9-a128b7af668c"
   },
   "outputs": [
    {
     "name": "stdout",
     "output_type": "stream",
     "text": [
      "This is an empty tuple:\n",
      " () \n",
      "\n",
      "This tuple is created using round brackets:\n",
      " ('Dell', 'HP', 'Apple', 'Lenovo', 'Microsoft') \n",
      "\n",
      "This tuple is created without brackets:\n",
      " ('Dell', 'HP', 'Apple', 'Lenovo', 'Microsoft') \n",
      "\n",
      "This tuple is created using tuple() constructor\n",
      ": ('Dell', 'HP', 'Apple', 'Lenovo', 'Microsoft') \n",
      "\n",
      "This tuple is created using round brackets and has mixed datatypes:\n",
      " ('Dell', 1, 'Apple', 3.2) \n",
      "\n",
      "This is a nested tuple:\n",
      " ('Dell', ['Apple', 4, 8], ('HP', 2.2, 3))\n"
     ]
    }
   ],
   "source": [
    "# Round brackets\n",
    "empty_tuple = ()\n",
    "print('This is an empty tuple:\\n', empty_tuple, '\\n')\n",
    "\n",
    "# Round backets\n",
    "tuple_1 = ('Dell', 'HP', 'Apple', 'Lenovo', 'Microsoft')\n",
    "print('This tuple is created using round brackets:\\n', tuple_1, '\\n')\n",
    "\n",
    "# No brackets or tuple packing \n",
    "tuple_2 = 'Dell', 'HP', 'Apple', 'Lenovo', 'Microsoft'\n",
    "print('This tuple is created without brackets:\\n', tuple_2, '\\n')\n",
    "\n",
    "# tuple() constructor \n",
    "tuple_3 = tuple(('Dell', 'HP', 'Apple', 'Lenovo', 'Microsoft'))\n",
    "print('This tuple is created using tuple() constructor\\n:', tuple_3, '\\n')\n",
    "\n",
    "# mixed datatypes tuple\n",
    "tuple_4 = ('Dell', 1, 'Apple', 3.2)\n",
    "print('This tuple is created using round brackets and has mixed datatypes:\\n', tuple_4, '\\n')\n",
    "\n",
    "# nested tuple\n",
    "tuple_5 = ('Dell', ['Apple', 4, 8], ('HP', 2.2, 3))\n",
    "print('This is a nested tuple:\\n', tuple_5)"
   ]
  },
  {
   "cell_type": "markdown",
   "metadata": {
    "id": "fvWcBpsCb5LL"
   },
   "source": [
    "### Tuple Functions"
   ]
  },
  {
   "cell_type": "markdown",
   "metadata": {
    "id": "vFkQiUynb8cT"
   },
   "source": [
    "#### Length"
   ]
  },
  {
   "cell_type": "code",
   "execution_count": null,
   "metadata": {
    "colab": {
     "base_uri": "https://localhost:8080/"
    },
    "id": "6qrB2ga1XJ34",
    "outputId": "47051a80-88a2-4de2-e005-0d02e7af2114"
   },
   "outputs": [
    {
     "name": "stdout",
     "output_type": "stream",
     "text": [
      "The length of the tuple is:  5\n"
     ]
    }
   ],
   "source": [
    "print('The length of the tuple is: ', len(tuple_1))"
   ]
  },
  {
   "cell_type": "markdown",
   "metadata": {
    "id": "MFnQZTmXcIYs"
   },
   "source": [
    "#### Max and Min"
   ]
  },
  {
   "cell_type": "code",
   "execution_count": null,
   "metadata": {
    "colab": {
     "base_uri": "https://localhost:8080/"
    },
    "id": "3kYnlC_EcIYt",
    "outputId": "ef42078b-4090-468b-d4f4-a90373392171"
   },
   "outputs": [
    {
     "name": "stdout",
     "output_type": "stream",
     "text": [
      "The \"minimum\" element of the tuple is:  Apple \n",
      "\n",
      "The \"maximum\" element of the tuple is:  Microsoft\n"
     ]
    }
   ],
   "source": [
    "print('The \"minimum\" element of the tuple is: ', min(tuple_1), '\\n')\n",
    "print('The \"maximum\" element of the tuple is: ', max(tuple_1))"
   ]
  },
  {
   "cell_type": "markdown",
   "metadata": {
    "id": "hvxNV1O7cIYt"
   },
   "source": [
    "#### Sorted"
   ]
  },
  {
   "cell_type": "code",
   "execution_count": null,
   "metadata": {
    "colab": {
     "base_uri": "https://localhost:8080/"
    },
    "id": "E_HY2sPzcIYt",
    "outputId": "21636849-2221-48d2-f315-e32610aeff80"
   },
   "outputs": [
    {
     "name": "stdout",
     "output_type": "stream",
     "text": [
      "The printed tuple is sorted:\n",
      " ['Apple', 'Dell', 'HP', 'Lenovo', 'Microsoft'] \n",
      "\n",
      "The original tuple is still the same:\n",
      " ('Dell', 'HP', 'Apple', 'Lenovo', 'Microsoft')\n"
     ]
    }
   ],
   "source": [
    "# This function sorts the tuple printed but the original tuple is not changed\n",
    "print('The printed tuple is sorted:\\n', sorted(tuple_1), '\\n')\n",
    "\n",
    "print('The original tuple is still the same:\\n', tuple_1)"
   ]
  },
  {
   "cell_type": "markdown",
   "metadata": {
    "id": "f-zpHohYewWS"
   },
   "source": [
    "### Tuple Methods"
   ]
  },
  {
   "cell_type": "markdown",
   "metadata": {
    "id": "4nz7sYR4e5D8"
   },
   "source": [
    "#### Index"
   ]
  },
  {
   "cell_type": "code",
   "execution_count": null,
   "metadata": {
    "colab": {
     "base_uri": "https://localhost:8080/"
    },
    "id": "K3FitiimhTT1",
    "outputId": "8d852532-de2c-4dce-9ddc-d0a86e92aa24"
   },
   "outputs": [
    {
     "name": "stdout",
     "output_type": "stream",
     "text": [
      "My initial tuple is:  ('Dell', 'HP', 'Apple', 'Lenovo', 'Microsoft')\n",
      "------------------------------------------------------------------------------------------------------------------------------------------------------\n",
      "The index of the Apple element is:\n",
      " 2\n"
     ]
    }
   ],
   "source": [
    "tuple_1 = ('Dell', 'HP', 'Apple', 'Lenovo', 'Microsoft')\n",
    "print('My initial tuple is: ', tuple_1)\n",
    "print('---' * 50)\n",
    "\n",
    "apple_idx = tuple_1.index('Apple')\n",
    "print('The index of the Apple element is:\\n', apple_idx)"
   ]
  },
  {
   "cell_type": "markdown",
   "metadata": {
    "id": "Va7-tfeke7wM"
   },
   "source": [
    "#### Count"
   ]
  },
  {
   "cell_type": "code",
   "execution_count": null,
   "metadata": {
    "colab": {
     "base_uri": "https://localhost:8080/"
    },
    "id": "6303VnZ5hTT1",
    "outputId": "74c34c06-2cac-4e8a-cab2-d3f775448691"
   },
   "outputs": [
    {
     "name": "stdout",
     "output_type": "stream",
     "text": [
      "My initial tuple is:  ('Dell', 'HP', 'Apple', 'Lenovo', 'Microsoft', 'Apple')\n",
      "------------------------------------------------------------------------------------------------------------------------------------------------------\n",
      "The Apple element appears 2 times in the tuple\n"
     ]
    }
   ],
   "source": [
    "tuple_1 = ('Dell', 'HP', 'Apple', 'Lenovo', 'Microsoft', 'Apple')\n",
    "print('My initial tuple is: ', tuple_1)\n",
    "print('---' * 50)\n",
    "\n",
    "apple_count = tuple_1.count('Apple')\n",
    "print('The Apple element appears', apple_count, 'times in the tuple')\n"
   ]
  },
  {
   "cell_type": "markdown",
   "metadata": {
    "id": "I20spElXe-3S"
   },
   "source": [
    "#### Del"
   ]
  },
  {
   "cell_type": "code",
   "execution_count": null,
   "metadata": {
    "colab": {
     "base_uri": "https://localhost:8080/"
    },
    "id": "PUYerkY-e2HD",
    "outputId": "f7b6ae1b-5a99-4f08-e318-66790efe3b68"
   },
   "outputs": [
    {
     "name": "stdout",
     "output_type": "stream",
     "text": [
      "My initial tuple is:  ('Dell', 'HP', 'Apple', 'Lenovo', 'Microsoft')\n",
      "------------------------------------------------------------------------------------------------------------------------------------------------------\n",
      "The tuple has been deleted.\n"
     ]
    }
   ],
   "source": [
    "# Delete a tuple\n",
    "tuple_1 = ('Dell', 'HP', 'Apple', 'Lenovo', 'Microsoft')\n",
    "print('My initial tuple is: ', tuple_1)\n",
    "print('---' * 50)\n",
    "\n",
    "del tuple_1 # delete the dictionary itself\n",
    "print('The tuple has been deleted.')"
   ]
  },
  {
   "cell_type": "markdown",
   "metadata": {
    "id": "0LOyJh6kfIs9"
   },
   "source": [
    "### Access elements of tuple by slicing"
   ]
  },
  {
   "cell_type": "code",
   "execution_count": null,
   "metadata": {
    "colab": {
     "base_uri": "https://localhost:8080/"
    },
    "id": "JRaqetzRfMUk",
    "outputId": "533b75e6-a509-452c-943d-4c16762db873"
   },
   "outputs": [
    {
     "name": "stdout",
     "output_type": "stream",
     "text": [
      "My initial tuple now is:  ('Dell', 'HP', 'Apple', 'Lenovo', 'Microsoft')\n",
      "------------------------------------------------------------------------------------------------------------------------------------------------------\n",
      "Printing all elements:\n",
      " ('Dell', 'HP', 'Apple', 'Lenovo', 'Microsoft') \n",
      "\n",
      "Printing element with index 2:\n",
      " Apple \n",
      "\n",
      "Printing elements from index 1 up to 3, excluding index 4:\n",
      " ('HP', 'Apple', 'Lenovo') \n",
      "\n",
      "Printing the last element:\n",
      " Microsoft \n",
      "\n",
      "Printing all elements in reverse:\n",
      " ('Microsoft', 'Lenovo', 'Apple', 'HP', 'Dell')\n"
     ]
    }
   ],
   "source": [
    "# Slicing a tuple\n",
    "tuple_1 = ('Dell', 'HP', 'Apple', 'Lenovo', 'Microsoft')\n",
    "print('My initial tuple now is: ', tuple_1)\n",
    "print('---' * 50)\n",
    "\n",
    "# Access all elements\n",
    "print('Printing all elements:\\n', tuple_1, '\\n')\n",
    "\n",
    "# Access element with index 2\n",
    "print('Printing element with index 2:\\n', tuple_1[2], '\\n')\n",
    "\n",
    "# Access elements from 1 to 3 and exclude 4 \n",
    "print('Printing elements from index 1 up to 3, excluding index 4:\\n', tuple_1[1:4], '\\n')\n",
    "\n",
    "# Access last element\n",
    "print('Printing the last element:\\n', tuple_1[-1], '\\n')\n",
    "\n",
    "# Access all elements in reverse\n",
    "print('Printing all elements in reverse:\\n', tuple_1[::-1])"
   ]
  },
  {
   "cell_type": "markdown",
   "metadata": {
    "id": "30NRCdDufV0s"
   },
   "source": [
    "### Add element to a tuple"
   ]
  },
  {
   "cell_type": "code",
   "execution_count": null,
   "metadata": {
    "colab": {
     "base_uri": "https://localhost:8080/"
    },
    "id": "naHJQHDQfhEK",
    "outputId": "7157e010-7b24-4b7d-ad33-c1a4e69af397"
   },
   "outputs": [
    {
     "name": "stdout",
     "output_type": "stream",
     "text": [
      "My initial tuple is:  ('Dell', 'HP', 'Apple', 'Lenovo', 'Microsoft')\n",
      "------------------------------------------------------------------------------------------------------------------------------------------------------\n",
      "LG element has been added to the tuple:\n",
      " ('Dell', 'HP', 'Apple', 'Lenovo', 'Microsoft', 'LG')\n"
     ]
    }
   ],
   "source": [
    "# Adding element to a tuple\n",
    "# Even though there is no append function in a tuple, there is an indirect way to add elements\n",
    "tuple_1 = ('Dell', 'HP', 'Apple', 'Lenovo', 'Microsoft')\n",
    "print('My initial tuple is: ', tuple_1)\n",
    "print('---' * 50)\n",
    "\n",
    "print('LG element has been added to the tuple:\\n', tuple_1 + ('LG',))"
   ]
  },
  {
   "cell_type": "markdown",
   "metadata": {
    "id": "6r0cpEeXfOBw"
   },
   "source": [
    "### Type"
   ]
  },
  {
   "cell_type": "code",
   "execution_count": null,
   "metadata": {
    "colab": {
     "base_uri": "https://localhost:8080/"
    },
    "id": "uQo5PU5P0mCS",
    "outputId": "be76e32e-4b98-4ed1-a551-0aa4e22eaaec"
   },
   "outputs": [
    {
     "name": "stdout",
     "output_type": "stream",
     "text": [
      "<class 'tuple'>\n"
     ]
    }
   ],
   "source": [
    "# In python a tuple is defined as an object with data type 'tuple'\n",
    "print(type(tuple_1))"
   ]
  },
  {
   "cell_type": "markdown",
   "metadata": {
    "id": "VYlay0KJxc7W"
   },
   "source": [
    "### Tuple Summary\n",
    "\n",
    "```markdown\n",
    "Function    | Description \n",
    "------------|--------------------------------------------------------------\n",
    "len()       | Length of a tuple \n",
    "max()       | Maximum element of a tuple\n",
    "min()       | Minimum element of a tuple\n",
    "sorted()    | Sorted tuple without changing the order of the original tuple\n",
    "------------|--------------------------------------------------------------\n",
    "Method      | Description \n",
    "------------|--------------------------------------------------------------\n",
    "index()     | Index of the specified value is returned\n",
    "count()     | Number of elements with the specified value is returned\n",
    "```"
   ]
  },
  {
   "cell_type": "markdown",
   "metadata": {
    "id": "UQtgEbvRXKOg"
   },
   "source": [
    "## Set Properties\n",
    "\n",
    "* **Unordered** collection of elements\n",
    "* Stores same and various types of data\n",
    "* **Unindexed**\n",
    "* Cannot be changed / **Immutable**\n",
    "* Duplicates not allowed"
   ]
  },
  {
   "cell_type": "markdown",
   "metadata": {
    "id": "ZkK62pXhgRt8"
   },
   "source": [
    "### Create a set"
   ]
  },
  {
   "cell_type": "code",
   "execution_count": null,
   "metadata": {
    "colab": {
     "base_uri": "https://localhost:8080/"
    },
    "id": "EXw76cb30dvo",
    "outputId": "bbcc1821-9620-49a7-a2ae-361e9f8d5f10"
   },
   "outputs": [
    {
     "name": "stdout",
     "output_type": "stream",
     "text": [
      "This is an empty set:\n",
      " set() \n",
      "\n",
      "This set is created using round brackets:\n",
      " {'HP', 'Microsoft', 'Dell', 'Lenovo', 'Apple'} \n",
      "\n",
      "This set is created using set() constructor:\n",
      " {'HP', 'Microsoft', 'Dell', 'Lenovo', 'Apple'} \n",
      "\n",
      "This set is created using set() constructor:\n",
      " {'HP', 'Microsoft', 'Dell', 'Lenovo', 'Apple'} \n",
      "\n",
      "This set is created using curly brackets and has mixed datatypes:\n",
      " {1, 'Apple', 3.2, 'Dell'} \n",
      "\n",
      "Even if Apple appears three times, the Apple is printed a single time:\n",
      " {'HP', 'Microsoft', 'Dell', 'Lenovo', 'Apple'}\n"
     ]
    }
   ],
   "source": [
    "# set() constructor\n",
    "empty_set = set()\n",
    "print('This is an empty set:\\n', empty_set, '\\n')\n",
    "\n",
    "# Curly backets\n",
    "set_1 = {'Dell', 'HP', 'Apple', 'Lenovo', 'Microsoft'}\n",
    "print('This set is created using round brackets:\\n', set_1, '\\n')\n",
    "\n",
    "# set() constructor \n",
    "set_2 = set(('Dell', 'HP', 'Apple', 'Lenovo', 'Microsoft'))\n",
    "print('This set is created using set() constructor:\\n', set_2, '\\n')\n",
    "\n",
    "# set() constructor \n",
    "set_3 = set(['Dell', 'HP', 'Apple', 'Lenovo', 'Microsoft'])\n",
    "print('This set is created using set() constructor:\\n', set_3, '\\n')\n",
    "\n",
    "# mixed datatypes set\n",
    "set_4 = {'Dell', 1, 'Apple', 3.2}\n",
    "print('This set is created using curly brackets and has mixed datatypes:\\n', set_4, '\\n')\n",
    "\n",
    "# Curly backets \n",
    "set_5 = {'Dell', 'HP', 'Apple', 'Lenovo', 'Microsoft', 'Apple', 'Apple'} # multiple times Apple element\n",
    "print('Even if Apple appears three times, the Apple is printed a single time:\\n', set_5)"
   ]
  },
  {
   "cell_type": "markdown",
   "metadata": {
    "id": "c3m709CCgUiU"
   },
   "source": [
    "### Set Functions"
   ]
  },
  {
   "cell_type": "markdown",
   "metadata": {
    "id": "cLQvUQ-igfj9"
   },
   "source": [
    "#### Length"
   ]
  },
  {
   "cell_type": "code",
   "execution_count": null,
   "metadata": {
    "colab": {
     "base_uri": "https://localhost:8080/"
    },
    "id": "IEz8jz3E2XzS",
    "outputId": "31e1b075-1603-4098-8752-7a3ed3574ce6"
   },
   "outputs": [
    {
     "name": "stdout",
     "output_type": "stream",
     "text": [
      "The length of the set is:  5 \n",
      "\n",
      "The length of the set is:  4\n"
     ]
    }
   ],
   "source": [
    "length_set_1 = len(set_1)\n",
    "print('The length of the set is: ', length_set_1, '\\n')\n",
    "\n",
    "length_set_4 = len(set_4)\n",
    "print('The length of the set is: ', length_set_4)"
   ]
  },
  {
   "cell_type": "markdown",
   "metadata": {
    "id": "CRkqNPf0geUM"
   },
   "source": [
    "#### Max and Min"
   ]
  },
  {
   "cell_type": "code",
   "execution_count": null,
   "metadata": {
    "colab": {
     "base_uri": "https://localhost:8080/"
    },
    "id": "lcIDhRUegeUM",
    "outputId": "c10187cd-480b-4af0-d194-42ef8e09f887"
   },
   "outputs": [
    {
     "name": "stdout",
     "output_type": "stream",
     "text": [
      "The \"minimum\" element of the set is:  Apple \n",
      "\n",
      "The \"maximum\" element of the set is:  Microsoft\n"
     ]
    }
   ],
   "source": [
    "print('The \"minimum\" element of the set is: ', min(set_1), '\\n')\n",
    "print('The \"maximum\" element of the set is: ', max(set_1))"
   ]
  },
  {
   "cell_type": "markdown",
   "metadata": {
    "id": "WEPjaWRhgeUN"
   },
   "source": [
    "#### Sorted"
   ]
  },
  {
   "cell_type": "code",
   "execution_count": null,
   "metadata": {
    "colab": {
     "base_uri": "https://localhost:8080/"
    },
    "id": "aUJ7H_cegeUN",
    "outputId": "f9371d98-e036-4d18-ae92-37591da47e4d"
   },
   "outputs": [
    {
     "name": "stdout",
     "output_type": "stream",
     "text": [
      "The printed set is sorted:\n",
      " ['Apple', 'Dell', 'HP', 'Lenovo', 'Microsoft'] \n",
      "\n",
      "The original set is still the same:\n",
      " {'HP', 'Microsoft', 'Dell', 'Lenovo', 'Apple'}\n"
     ]
    }
   ],
   "source": [
    "# This function sorts the set printed but the original set is not changed\n",
    "print('The printed set is sorted:\\n', sorted(set_1), '\\n')\n",
    "\n",
    "print('The original set is still the same:\\n', set_1)"
   ]
  },
  {
   "cell_type": "markdown",
   "metadata": {
    "id": "Kqlzjb1bgYIy"
   },
   "source": [
    "### Set Methods"
   ]
  },
  {
   "cell_type": "markdown",
   "metadata": {
    "id": "83gDDtIvg_wJ"
   },
   "source": [
    "#### Add"
   ]
  },
  {
   "cell_type": "code",
   "execution_count": null,
   "metadata": {
    "colab": {
     "base_uri": "https://localhost:8080/"
    },
    "id": "NSX6FbO-2Xj6",
    "outputId": "47fa728f-de5c-4d7b-ef4a-59bbcee14b0b"
   },
   "outputs": [
    {
     "name": "stdout",
     "output_type": "stream",
     "text": [
      "My initial set is:  {'HP', 'Microsoft', 'Dell', 'Lenovo', 'Apple'}\n",
      "------------------------------------------------------------------------------------------------------------------------------------------------------\n",
      "LG element has been added to the set:\n",
      " {'HP', 'Microsoft', 'Dell', 'LG', 'Lenovo', 'Apple'}\n"
     ]
    }
   ],
   "source": [
    "# Adding element to a set\n",
    "# Even though there is no append function in a set, there is an indirect way to add elements\n",
    "set_1 = {'Dell', 'HP', 'Apple', 'Lenovo', 'Microsoft'}\n",
    "print('My initial set is: ', set_1)\n",
    "print('---' * 50)\n",
    "\n",
    "# Add\n",
    "set_1.add('LG') # adding element to set\n",
    "print('LG element has been added to the set:\\n', set_1)"
   ]
  },
  {
   "cell_type": "markdown",
   "metadata": {
    "id": "h-EZ56TlhCO-"
   },
   "source": [
    "#### Discard, Remove, Pop and Clear"
   ]
  },
  {
   "cell_type": "code",
   "execution_count": null,
   "metadata": {
    "colab": {
     "base_uri": "https://localhost:8080/"
    },
    "id": "IPn4wPuyzFpD",
    "outputId": "b2b1fd15-372d-411c-e9f8-42b762cf68e6"
   },
   "outputs": [
    {
     "name": "stdout",
     "output_type": "stream",
     "text": [
      "My initial set is:  {'HP', 'Microsoft', 'Dell', 'Lenovo', 'Apple'}\n",
      "------------------------------------------------------------------------------------------------------------------------------------------------------\n",
      "The new set is:\n",
      " {'HP', 'Microsoft', 'Dell', 'Apple'} \n",
      "\n",
      "The new set is:\n",
      " {'Microsoft', 'Dell', 'Apple'} \n",
      "\n",
      "The set now is:\n",
      " {'Dell', 'Apple'} \n",
      "\n",
      "The set now is empty:\n",
      " set()\n"
     ]
    }
   ],
   "source": [
    "set_1 = {'Dell', 'HP', 'Apple', 'Lenovo', 'Microsoft'}\n",
    "print('My initial set is: ', set_1)\n",
    "print('---' * 50)\n",
    "\n",
    "# Discard\n",
    "# If specified itam not in the set, no error is raised\n",
    "set_1.discard('Lenovo') # removes specified item\n",
    "print('The new set is:\\n', set_1, '\\n')\n",
    "\n",
    "# Remove\n",
    "# If specified itam not in the set, an error is raised\n",
    "set_1.discard('HP') # removes specified item\n",
    "print('The new set is:\\n', set_1, '\\n')\n",
    "\n",
    "# Pop\n",
    "set_1.pop() # removed random item \n",
    "print('The set now is:\\n', set_1, '\\n')\n",
    "\n",
    "# Clear\n",
    "set_1.clear() # remove all items\n",
    "print('The set now is empty:\\n', set_1)"
   ]
  },
  {
   "cell_type": "markdown",
   "metadata": {
    "id": "mI6co9B0hq42"
   },
   "source": [
    "#### Update"
   ]
  },
  {
   "cell_type": "code",
   "execution_count": null,
   "metadata": {
    "colab": {
     "base_uri": "https://localhost:8080/"
    },
    "id": "_fi1GZao2XWJ",
    "outputId": "2efde602-8193-4786-d4e1-5a069d41ebc1"
   },
   "outputs": [
    {
     "name": "stdout",
     "output_type": "stream",
     "text": [
      "Set_1 is:  {'HP', 'VAIO', 'Microsoft', 'Dell', 'Lenovo', 'Apple'} \n",
      "\n",
      "Set_2 is:  {'Acer', 'Asus', 'VAIO', 'LG', 'Fujitsu', 'Samsung', 'Apple'}\n",
      "------------------------------------------------------------------------------------------------------------------------------------------------------\n",
      "Set_1 is updated by the addition of elements from set_2:\n",
      " {'HP', 'Acer', 'VAIO', 'Asus', 'Microsoft', 'Dell', 'LG', 'Lenovo', 'Fujitsu', 'Samsung', 'Apple'} \n",
      "\n"
     ]
    }
   ],
   "source": [
    "set_1 = set(('Dell', 'HP', 'Apple', 'Lenovo', 'Microsoft', 'VAIO'))\n",
    "print('Set_1 is: ', set_1, '\\n')\n",
    "\n",
    "set_2 = set(('Asus', 'Acer', 'Fujitsu', 'LG', 'Samsung', 'Apple', 'VAIO'))\n",
    "print('Set_2 is: ', set_2)\n",
    "print('---' * 50)\n",
    "\n",
    "# Update\n",
    "set_1.update(set_2)\n",
    "print('Set_1 is updated by the addition of elements from set_2:\\n', set_1, '\\n') # only unique values appear"
   ]
  },
  {
   "cell_type": "markdown",
   "metadata": {
    "id": "oDuAkLzrn8DU"
   },
   "source": [
    "#### Union"
   ]
  },
  {
   "cell_type": "code",
   "execution_count": null,
   "metadata": {
    "colab": {
     "base_uri": "https://localhost:8080/"
    },
    "id": "7YONjYQsnX6l",
    "outputId": "f2c09924-e9b2-44bc-8145-2b5f8973532d"
   },
   "outputs": [
    {
     "name": "stdout",
     "output_type": "stream",
     "text": [
      "Set_1 is:  {'HP', 'VAIO', 'Microsoft', 'Dell', 'Lenovo', 'Apple'} \n",
      "\n",
      "Set_2 is:  {'Acer', 'Asus', 'VAIO', 'LG', 'Fujitsu', 'Samsung', 'Apple'}\n",
      "------------------------------------------------------------------------------------------------------------------------------------------------------\n",
      "Set containing the union of sets:\n",
      " {'HP', 'Acer', 'VAIO', 'Asus', 'Microsoft', 'Dell', 'LG', 'Lenovo', 'Fujitsu', 'Samsung', 'Apple'} \n",
      "\n",
      "Set containing the union of sets using | operator:\n",
      " {'HP', 'Acer', 'VAIO', 'Asus', 'Microsoft', 'Dell', 'LG', 'Lenovo', 'Fujitsu', 'Samsung', 'Apple'} \n",
      "\n"
     ]
    }
   ],
   "source": [
    "set_1 = set(('Dell', 'HP', 'Apple', 'Lenovo', 'Microsoft', 'VAIO'))\n",
    "print('Set_1 is: ', set_1, '\\n')\n",
    "\n",
    "set_2 = set(('Asus', 'Acer', 'Fujitsu', 'LG', 'Samsung', 'Apple', 'VAIO'))\n",
    "print('Set_2 is: ', set_2)\n",
    "print('---' * 50)\n",
    "\n",
    "# Union or | operator\n",
    "print('Set containing the union of the sets:\\n', set_1.union(set_2), '\\n') # combines elements from both sets\n",
    "print('Set containing the union of the sets using | operator:\\n', set_1 | set_2, '\\n') # combines elements from both sets"
   ]
  },
  {
   "cell_type": "markdown",
   "metadata": {
    "id": "sBuhZoG6oBQe"
   },
   "source": [
    "#### Intersection"
   ]
  },
  {
   "cell_type": "code",
   "execution_count": null,
   "metadata": {
    "colab": {
     "base_uri": "https://localhost:8080/"
    },
    "id": "_CBIhcbonXxP",
    "outputId": "2a1d5762-83f1-436c-f400-3eb9efb5b62c"
   },
   "outputs": [
    {
     "name": "stdout",
     "output_type": "stream",
     "text": [
      "Set_1 is:  {'HP', 'VAIO', 'Microsoft', 'Dell', 'Lenovo', 'Apple'} \n",
      "\n",
      "Set_2 is:  {'Acer', 'Asus', 'VAIO', 'LG', 'Fujitsu', 'Samsung', 'Apple'}\n",
      "------------------------------------------------------------------------------------------------------------------------------------------------------\n",
      "Set containing the intersection of the sets:\n",
      " {'VAIO', 'Apple'} \n",
      "\n",
      "Set containing the intersection of the sets using & operator:\n",
      " {'VAIO', 'Apple'} \n",
      "\n"
     ]
    }
   ],
   "source": [
    "set_1 = set(('Dell', 'HP', 'Apple', 'Lenovo', 'Microsoft', 'VAIO'))\n",
    "print('Set_1 is: ', set_1, '\\n')\n",
    "\n",
    "set_2 = set(('Asus', 'Acer', 'Fujitsu', 'LG', 'Samsung', 'Apple', 'VAIO'))\n",
    "print('Set_2 is: ', set_2)\n",
    "print('---' * 50)\n",
    "\n",
    "# Intersection or & operator\n",
    "print('Set containing the intersection of the sets:\\n', set_1.intersection(set_2), '\\n') # common elements from both sets\n",
    "print('Set containing the intersection of the sets using & operator:\\n', set_1 & set_2, '\\n') # common elements from both sets"
   ]
  },
  {
   "cell_type": "markdown",
   "metadata": {
    "id": "XAxsQZ_goDiw"
   },
   "source": [
    "#### Intersection Update"
   ]
  },
  {
   "cell_type": "code",
   "execution_count": null,
   "metadata": {
    "colab": {
     "base_uri": "https://localhost:8080/"
    },
    "id": "4g_phiitnXmg",
    "outputId": "bb7155af-2306-4f90-e269-881a7fc68af0"
   },
   "outputs": [
    {
     "name": "stdout",
     "output_type": "stream",
     "text": [
      "Set_1 is:  {'HP', 'VAIO', 'Microsoft', 'Dell', 'Lenovo', 'Apple'} \n",
      "\n",
      "Set_2 is:  {'Acer', 'Asus', 'VAIO', 'LG', 'Fujitsu', 'Samsung', 'Apple'}\n",
      "------------------------------------------------------------------------------------------------------------------------------------------------------\n",
      "Set_1 is updated with the interestion of the sets:\n",
      " {'VAIO', 'Apple'}\n"
     ]
    }
   ],
   "source": [
    "set_1 = set(('Dell', 'HP', 'Apple', 'Lenovo', 'Microsoft', 'VAIO'))\n",
    "print('Set_1 is: ', set_1, '\\n')\n",
    "\n",
    "set_2 = set(('Asus', 'Acer', 'Fujitsu', 'LG', 'Samsung', 'Apple', 'VAIO'))\n",
    "print('Set_2 is: ', set_2)\n",
    "print('---' * 50)\n",
    "\n",
    "# Intersection update\n",
    "set_1.intersection_update(set_2)\n",
    "print('Set_1 is updated with the interestion of the sets:\\n', set_1)"
   ]
  },
  {
   "cell_type": "markdown",
   "metadata": {
    "id": "uKUuBnV_ofjY"
   },
   "source": [
    "#### Difference"
   ]
  },
  {
   "cell_type": "code",
   "execution_count": null,
   "metadata": {
    "colab": {
     "base_uri": "https://localhost:8080/"
    },
    "id": "FDJdbOfOno96",
    "outputId": "64c357aa-50b9-42b6-dd03-7a010deeb371"
   },
   "outputs": [
    {
     "name": "stdout",
     "output_type": "stream",
     "text": [
      "Set_1 is:  {'HP', 'VAIO', 'Microsoft', 'Dell', 'Lenovo', 'Apple'} \n",
      "\n",
      "Set_2 is:  {'Acer', 'Asus', 'VAIO', 'LG', 'Fujitsu', 'Samsung', 'Apple'}\n",
      "------------------------------------------------------------------------------------------------------------------------------------------------------\n",
      "Set containing the difference between the sets:\n",
      " {'HP', 'Lenovo', 'Microsoft', 'Dell'} \n",
      "\n",
      "Set containing the difference between the sets using - operator:\n",
      " {'HP', 'Lenovo', 'Microsoft', 'Dell'} \n",
      "\n"
     ]
    }
   ],
   "source": [
    "set_1 = set(('Dell', 'HP', 'Apple', 'Lenovo', 'Microsoft', 'VAIO'))\n",
    "print('Set_1 is: ', set_1, '\\n')\n",
    "\n",
    "set_2 = set(('Asus', 'Acer', 'Fujitsu', 'LG', 'Samsung', 'Apple', 'VAIO'))\n",
    "print('Set_2 is: ', set_2)\n",
    "print('---' * 50)\n",
    "\n",
    "# Difference or - operator\n",
    "print('Set containing the difference between the sets:\\n', set_1.difference(set_2), '\\n') # elements in set_1 but not in set_2\n",
    "print('Set containing the difference between the sets using - operator:\\n', set_1 - set_2, '\\n') # elements in set_1 but not in set_2"
   ]
  },
  {
   "cell_type": "markdown",
   "metadata": {
    "id": "Ymp8k9p-o8d_"
   },
   "source": [
    "#### Difference Update"
   ]
  },
  {
   "cell_type": "code",
   "execution_count": null,
   "metadata": {
    "colab": {
     "base_uri": "https://localhost:8080/"
    },
    "id": "oXOeZfbeojkK",
    "outputId": "dbfe194f-98da-437a-c0b1-c0974387838d"
   },
   "outputs": [
    {
     "name": "stdout",
     "output_type": "stream",
     "text": [
      "Set_1 is:  {'HP', 'VAIO', 'Microsoft', 'Dell', 'Lenovo', 'Apple'} \n",
      "\n",
      "Set_2 is:  {'Acer', 'Asus', 'VAIO', 'LG', 'Fujitsu', 'Samsung', 'Apple'}\n",
      "------------------------------------------------------------------------------------------------------------------------------------------------------\n",
      "Set_1 is updated with the difference between the sets:\n",
      " {'HP', 'Microsoft', 'Dell', 'Lenovo'} \n",
      "\n"
     ]
    }
   ],
   "source": [
    "set_1 = set(('Dell', 'HP', 'Apple', 'Lenovo', 'Microsoft', 'VAIO'))\n",
    "print('Set_1 is: ', set_1, '\\n')\n",
    "\n",
    "set_2 = set(('Asus', 'Acer', 'Fujitsu', 'LG', 'Samsung', 'Apple', 'VAIO'))\n",
    "print('Set_2 is: ', set_2)\n",
    "print('---' * 50)\n",
    "\n",
    "# Difference update\n",
    "set_1.difference_update(set_2)\n",
    "print('Set_1 is updated with the difference between the sets:\\n', set_1, '\\n')"
   ]
  },
  {
   "cell_type": "markdown",
   "metadata": {
    "id": "ZO95fTouo_Np"
   },
   "source": [
    "#### Symmetric Difference"
   ]
  },
  {
   "cell_type": "code",
   "execution_count": null,
   "metadata": {
    "colab": {
     "base_uri": "https://localhost:8080/"
    },
    "id": "SuqodIK2ojMg",
    "outputId": "30c103a6-44b9-439e-80ef-eee73c832f62"
   },
   "outputs": [
    {
     "name": "stdout",
     "output_type": "stream",
     "text": [
      "Set_1 is:  {'HP', 'VAIO', 'Microsoft', 'Dell', 'Lenovo', 'Apple'} \n",
      "\n",
      "Set_2 is:  {'Acer', 'Asus', 'VAIO', 'LG', 'Fujitsu', 'Samsung', 'Apple'}\n",
      "------------------------------------------------------------------------------------------------------------------------------------------------------\n",
      "Set containing all different elements from the sets:\n",
      " {'HP', 'Acer', 'Asus', 'Microsoft', 'Dell', 'LG', 'Fujitsu', 'Samsung', 'Lenovo'} \n",
      "\n",
      "Set containing all different elements from the sets using ^ operator:\n",
      " {'HP', 'Acer', 'Asus', 'Microsoft', 'Dell', 'LG', 'Fujitsu', 'Samsung', 'Lenovo'} \n",
      "\n"
     ]
    }
   ],
   "source": [
    "set_1 = set(('Dell', 'HP', 'Apple', 'Lenovo', 'Microsoft', 'VAIO'))\n",
    "print('Set_1 is: ', set_1, '\\n')\n",
    "\n",
    "set_2 = set(('Asus', 'Acer', 'Fujitsu', 'LG', 'Samsung', 'Apple', 'VAIO'))\n",
    "print('Set_2 is: ', set_2)\n",
    "print('---' * 50)\n",
    "\n",
    "# Symmetric difference or ^ operator\n",
    "# Similar to difference, but outputs the elements that is remaining in both sets\n",
    "print('Set containing all different elements from the sets:\\n', set_1.symmetric_difference(set_2), '\\n') # common elements excluded\n",
    "print('Set containing all different elements from the sets using ^ operator:\\n', set_1 ^ set_2, '\\n')"
   ]
  },
  {
   "cell_type": "markdown",
   "metadata": {
    "id": "o8OyH68BpBsq"
   },
   "source": [
    "#### Symmetric Difference Update"
   ]
  },
  {
   "cell_type": "code",
   "execution_count": null,
   "metadata": {
    "colab": {
     "base_uri": "https://localhost:8080/"
    },
    "id": "dU3TBQ1gojEf",
    "outputId": "c3b1a07c-3d3d-492a-e7b8-39a282205556"
   },
   "outputs": [
    {
     "name": "stdout",
     "output_type": "stream",
     "text": [
      "Set_1 is:  {'HP', 'VAIO', 'Microsoft', 'Dell', 'Lenovo', 'Apple'} \n",
      "\n",
      "Set_2 is:  {'Acer', 'Asus', 'VAIO', 'LG', 'Fujitsu', 'Samsung', 'Apple'}\n",
      "------------------------------------------------------------------------------------------------------------------------------------------------------\n",
      "Set_1 is updated with all different elements from the sets:\n",
      " {'HP', 'Acer', 'Asus', 'Microsoft', 'Dell', 'LG', 'Lenovo', 'Fujitsu', 'Samsung'}\n"
     ]
    }
   ],
   "source": [
    "set_1 = set(('Dell', 'HP', 'Apple', 'Lenovo', 'Microsoft', 'VAIO'))\n",
    "print('Set_1 is: ', set_1, '\\n')\n",
    "\n",
    "set_2 = set(('Asus', 'Acer', 'Fujitsu', 'LG', 'Samsung', 'Apple', 'VAIO'))\n",
    "print('Set_2 is: ', set_2)\n",
    "print('---' * 50)\n",
    "\n",
    "# Symmetric difference update\n",
    "set_1.symmetric_difference_update(set_2)\n",
    "print('Set_1 is updated with all different elements from the sets:\\n', set_1)"
   ]
  },
  {
   "cell_type": "markdown",
   "metadata": {
    "id": "jZ8or_iguwwu"
   },
   "source": [
    "#### Isdisjoint, Issubset and Issuperset"
   ]
  },
  {
   "cell_type": "code",
   "execution_count": null,
   "metadata": {
    "colab": {
     "base_uri": "https://localhost:8080/"
    },
    "id": "GhFofnhhzZJy",
    "outputId": "43b5c9f0-1050-4b85-d229-45543d7908d6"
   },
   "outputs": [
    {
     "name": "stdout",
     "output_type": "stream",
     "text": [
      "Set_1 is:  {'HP', 'VAIO', 'Microsoft', 'Dell', 'Lenovo', 'Apple'} \n",
      "\n",
      "Set_2 is:  {'Acer', 'Asus', 'VAIO', 'LG', 'Fujitsu', 'Samsung', 'Apple'} \n",
      "\n",
      "Set_3 is:  {'HP', 'Apple', 'Lenovo', 'Dell'} \n",
      "\n",
      "Set_4 is:  {'VAIO', 'Microsoft'}\n",
      "------------------------------------------------------------------------------------------------------------------------------------------------------\n",
      "Are set_1 and set_2 disjoint?  False \n",
      "\n",
      "Are set_1 and set_3 disjoint?  False \n",
      "\n",
      "Are set_3 and set_4 disjoint?  True \n",
      "\n",
      "Is set_1 subset of set_2?  False \n",
      "\n",
      "Is set_3 subset of set_1?  True \n",
      "\n",
      "Are all elements of set_2 in set_1?  False \n",
      "\n",
      "Are all elements of set_3 in set_1?  True\n"
     ]
    }
   ],
   "source": [
    "set_1 = set(('Dell', 'HP', 'Apple', 'Lenovo', 'Microsoft', 'VAIO'))\n",
    "print('Set_1 is: ', set_1, '\\n')\n",
    "\n",
    "set_2 = set(('Asus', 'Acer', 'Fujitsu', 'LG', 'Samsung', 'Apple', 'VAIO'))\n",
    "print('Set_2 is: ', set_2, '\\n')\n",
    "\n",
    "set_3 = set(('Dell', 'HP', 'Apple', 'Lenovo'))\n",
    "print('Set_3 is: ', set_3, '\\n')\n",
    "\n",
    "set_4 = set(('Microsoft', 'VAIO'))\n",
    "print('Set_4 is: ', set_4)\n",
    "print('---' * 50)\n",
    "\n",
    "# isdisjoint\n",
    "print('Are set_1 and set_2 disjoint? ', set_1.isdisjoint(set_2), '\\n')\n",
    "print('Are set_1 and set_3 disjoint? ', set_1.isdisjoint(set_3), '\\n')\n",
    "print('Are set_3 and set_4 disjoint? ', set_3.isdisjoint(set_4), '\\n')\n",
    "\n",
    "# issubset\n",
    "print('Is set_1 subset of set_2? ', set_1.issubset(set_2), '\\n')\n",
    "print('Is set_3 subset of set_1? ', set_3.issubset(set_1), '\\n')\n",
    "\n",
    "# issuperset\n",
    "print('Are all elements of set_2 in set_1? ', set_1.issuperset(set_2), '\\n')\n",
    "print('Are all elements of set_3 in set_1? ', set_1.issuperset(set_3))"
   ]
  },
  {
   "cell_type": "markdown",
   "metadata": {
    "id": "bT1CNfbXu11u"
   },
   "source": [
    "#### Copy"
   ]
  },
  {
   "cell_type": "code",
   "execution_count": null,
   "metadata": {
    "colab": {
     "base_uri": "https://localhost:8080/"
    },
    "id": "RgaOMgP1yf-3",
    "outputId": "7a830ccb-aaf7-4907-d021-00208683bd1d"
   },
   "outputs": [
    {
     "name": "stdout",
     "output_type": "stream",
     "text": [
      "My initial set is:  {'HP', 'Microsoft', 'Dell', 'Lenovo', 'Apple'}\n",
      "------------------------------------------------------------------------------------------------------------------------------------------------------\n",
      "The set has been copied:\n",
      " {'HP', 'Lenovo', 'Apple', 'Microsoft', 'Dell'}\n"
     ]
    }
   ],
   "source": [
    "set_1 = {'Dell', 'HP', 'Apple', 'Lenovo', 'Microsoft'}\n",
    "print('My initial set is: ', set_1)\n",
    "print('---' * 50)\n",
    "\n",
    "set_1_copy = set_1.copy()\n",
    "print('The set has been copied:\\n', set_1_copy)"
   ]
  },
  {
   "cell_type": "markdown",
   "metadata": {
    "id": "rFQOTI2pu494"
   },
   "source": [
    "### Type"
   ]
  },
  {
   "cell_type": "code",
   "execution_count": null,
   "metadata": {
    "colab": {
     "base_uri": "https://localhost:8080/"
    },
    "id": "p7EVYO4jXLSu",
    "outputId": "56343baa-2b50-4505-d544-1fea741c5c68"
   },
   "outputs": [
    {
     "name": "stdout",
     "output_type": "stream",
     "text": [
      "<class 'set'>\n"
     ]
    }
   ],
   "source": [
    "# In python a set is defined as an object with data type 'set'\n",
    "print(type(set_1))"
   ]
  },
  {
   "cell_type": "markdown",
   "metadata": {
    "id": "TYXJFZqYu7pl"
   },
   "source": [
    "### Set Summary\n",
    "\n",
    "```markdown\n",
    "Function                     | Description \n",
    "-----------------------------|---------------------------------------------\n",
    "len()                        | Length of a set \n",
    "max()                        | Maximum element of a set\n",
    "min()                        | Minimum element of a set\n",
    "sorted()                     | Sorted set without changing the order of the original set\n",
    "-----------------------------|---------------------------------------------\n",
    "Method                       | Description \n",
    "-----------------------------|---------------------------------------------\n",
    "add()                        | Element is added at the set\n",
    "discard()                    | Element is removed from the set\n",
    "remove()                     | Element is removed from the set\n",
    "pop()                        | Random element is removed from the set\n",
    "clear()                      | All elements are removed from the set\n",
    "update()                     | Elements are added to the caller set\n",
    "union()                      | Set is returned with the union of all sets\n",
    "intersection()               | Set is returned with the intersection of all sets\n",
    "intersection_update()        | Elements that intersect in the sets remain in the caller set\n",
    "difference()                 | Set is returned with the difference between two sets\n",
    "difference_update()          | Elements that differ in the two sets remain in the caller set\n",
    "symmetric_difference()       | Set is returned with all the different elements from the sets\n",
    "symmetric_difference_update()| All elements that differ in the sets remain in the caller set\n",
    "isdisjoint                   | Returns True if set_1 and set_2 are disjoint\n",
    "issubset                     | Returns True if all elements of set_1 are present in set_2\n",
    "isuperset                    | Returns True if all elements of set_1 occupies set_2\n",
    "copy()                       | set is copied\n",
    "```"
   ]
  }
 ],
 "metadata": {
  "colab": {
   "collapsed_sections": [],
   "provenance": []
  },
  "kernelspec": {
   "display_name": "Python 3",
   "language": "python",
   "name": "python3"
  },
  "language_info": {
   "codemirror_mode": {
    "name": "ipython",
    "version": 3
   },
   "file_extension": ".py",
   "mimetype": "text/x-python",
   "name": "python",
   "nbconvert_exporter": "python",
   "pygments_lexer": "ipython3",
   "version": "3.8.5"
  }
 },
 "nbformat": 4,
 "nbformat_minor": 1
}
